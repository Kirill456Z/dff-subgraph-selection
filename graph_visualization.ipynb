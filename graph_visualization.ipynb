{
 "cells": [
  {
   "cell_type": "code",
   "execution_count": 13,
   "metadata": {},
   "outputs": [],
   "source": [
    "import numpy as np"
   ]
  },
  {
   "cell_type": "code",
   "execution_count": 180,
   "metadata": {},
   "outputs": [],
   "source": [
    "import pickle\n",
    "\n",
    "with open('dialogue_sim/graphs/selected_sbert_10.pkl', 'rb') as file:\n",
    "    graph = pickle.load(file)"
   ]
  },
  {
   "cell_type": "code",
   "execution_count": 181,
   "metadata": {},
   "outputs": [],
   "source": [
    "import plotly.graph_objects as go\n",
    "import networkx as nx"
   ]
  },
  {
   "cell_type": "code",
   "execution_count": 182,
   "metadata": {},
   "outputs": [],
   "source": [
    "transitions = np.array(graph.get_transitions())\n",
    "labels = graph.cluster_kmeans_labels[1]\n",
    "num_nodes = len(transitions)"
   ]
  },
  {
   "cell_type": "code",
   "execution_count": 183,
   "metadata": {},
   "outputs": [],
   "source": [
    "y_span = 1\n",
    "x_span = 0.1\n",
    "cur_x = {\"USER\" : 0, \"SYSTEM\" : 0} \n",
    "cur_y = {\"USER\" : y_span, \"SYSTEM\" : y_span * 2} \n",
    "\n",
    "edge_x = []\n",
    "edge_y = []\n",
    "node_x = []\n",
    "node_y = []\n",
    "\n",
    "for node in range(num_nodes):\n",
    "    if node not in labels:\n",
    "        node_x.append(x_span * (num_nodes / 6))\n",
    "        node_y.append(0 * y_span)\n",
    "        continue\n",
    "    label = labels[node]\n",
    "    node_y.append(cur_y[label])\n",
    "    node_x.append(cur_x[label])\n",
    "    cur_x[label] += x_span\n",
    "\n",
    "edge_traces = []\n",
    "\n",
    "thresh = 0.3\n",
    "for node1 in range(num_nodes):\n",
    "    for node2 in range(num_nodes):\n",
    "        if node1 == node2:\n",
    "            continue\n",
    "        edge_x = [node_x[node1], node_x[node2], None]\n",
    "        edge_y = [node_y[node1], node_y[node2], None]\n",
    "        c = \"#888\"\n",
    "        if node1 in labels:\n",
    "            c = \"red\" if labels[node1] == \"USER\" else \"blue\"\n",
    "        trace = go.Scatter(\n",
    "            x=edge_x, y=edge_y,\n",
    "            line=dict(width=transitions[node1][node2] * 2, color=c),\n",
    "            hoverinfo='text',\n",
    "            mode='lines')\n",
    "        trace.text = [str(transitions[node1][node2])]\n",
    "        edge_traces.append(trace)"
   ]
  },
  {
   "cell_type": "code",
   "execution_count": 184,
   "metadata": {},
   "outputs": [],
   "source": [
    "node_trace = go.Scatter(\n",
    "    x=node_x, y=node_y,\n",
    "    mode='markers',\n",
    "    hoverinfo='text',\n",
    "    marker=dict(\n",
    "        showscale=True,\n",
    "        colorscale='Jet',\n",
    "        reversescale=True,\n",
    "        color=[],\n",
    "        size=10,\n",
    "        line_width=2))"
   ]
  },
  {
   "cell_type": "code",
   "execution_count": 185,
   "metadata": {},
   "outputs": [],
   "source": [
    "node_text = []\n",
    "node_sizes = []\n",
    "lbls = []\n",
    "for node in range(num_nodes - 1):\n",
    "    content = graph.get_node_content(node)\n",
    "    text = f\"{labels[node]} ({len(content)})<br>\" + \"<br>\".join(content[:4])\n",
    "    node_text.append(text)\n",
    "    node_sizes.append(len(graph.get_node_content(node)) / 200)\n",
    "    lbls.append(0 if labels[node] == \"USER\" else 1)\n",
    "\n",
    "node_sizes.append(20)\n",
    "node_text.append(\"START NODE\")\n",
    "\n",
    "node_trace.marker.color = lbls\n",
    "node_trace.marker.size = node_sizes\n",
    "node_trace.text = node_text"
   ]
  },
  {
   "cell_type": "code",
   "execution_count": 186,
   "metadata": {},
   "outputs": [],
   "source": [
    "dial = \"i need a place to dine in the center thats expensive. <br> I have several options for you; do you prefer African, Asian, or British food?.<br> Any sort of food would be fine, as long as it is a bit expensive. Could I get the phone number for your recommendation?.<br> There is an Afrian place named Bedouin in the centre. How does that sound?. <br> Sounds good, could I get that phone number? Also, could you recommend me an expensive hotel?. <br> Bedouin's phone is 01223367660. As far as hotels go, I recommend the University Arms Hotel in the center of town.. <br> Yes. Can you book it for me?. <br> Sure, when would you like that reservation?. <br> i want to book it for 2 people and 2 nights starting from saturday.. <br> Your booking was successful. Your reference number is FRGZWQL2 . May I help you further?. <br> That is all I need to know. Thanks, good bye.. <br> Thank you so much for Cambridge TownInfo centre. Have a great day!.\""
   ]
  },
  {
   "cell_type": "code",
   "execution_count": 187,
   "metadata": {},
   "outputs": [
    {
     "data": {
      "application/vnd.plotly.v1+json": {
       "config": {
        "plotlyServerURL": "https://plot.ly"
       },
       "data": [
        {
         "hoverinfo": "text",
         "line": {
          "color": "red",
          "width": 0
         },
         "marker": {
          "showscale": false
         },
         "mode": "lines",
         "text": [
          "0.0"
         ],
         "type": "scatter",
         "x": [
          0,
          0.1,
          null
         ],
         "y": [
          1,
          1,
          null
         ]
        },
        {
         "hoverinfo": "text",
         "line": {
          "color": "red",
          "width": 0
         },
         "marker": {
          "showscale": false
         },
         "mode": "lines",
         "text": [
          "0.0"
         ],
         "type": "scatter",
         "x": [
          0,
          0.2,
          null
         ],
         "y": [
          1,
          1,
          null
         ]
        },
        {
         "hoverinfo": "text",
         "line": {
          "color": "red",
          "width": 0
         },
         "marker": {
          "showscale": false
         },
         "mode": "lines",
         "text": [
          "0.0"
         ],
         "type": "scatter",
         "x": [
          0,
          0.30000000000000004,
          null
         ],
         "y": [
          1,
          1,
          null
         ]
        },
        {
         "hoverinfo": "text",
         "line": {
          "color": "red",
          "width": 0
         },
         "marker": {
          "showscale": false
         },
         "mode": "lines",
         "text": [
          "0.0"
         ],
         "type": "scatter",
         "x": [
          0,
          0.4,
          null
         ],
         "y": [
          1,
          1,
          null
         ]
        },
        {
         "hoverinfo": "text",
         "line": {
          "color": "red",
          "width": 0.8028362305580969
         },
         "marker": {
          "showscale": false
         },
         "mode": "lines",
         "text": [
          "0.40141811527904847"
         ],
         "type": "scatter",
         "x": [
          0,
          0,
          null
         ],
         "y": [
          1,
          2,
          null
         ]
        },
        {
         "hoverinfo": "text",
         "line": {
          "color": "red",
          "width": 0.23627630375114364
         },
         "marker": {
          "showscale": false
         },
         "mode": "lines",
         "text": [
          "0.11813815187557182"
         ],
         "type": "scatter",
         "x": [
          0,
          0.1,
          null
         ],
         "y": [
          1,
          2,
          null
         ]
        },
        {
         "hoverinfo": "text",
         "line": {
          "color": "red",
          "width": 0.021614821591948764
         },
         "marker": {
          "showscale": false
         },
         "mode": "lines",
         "text": [
          "0.010807410795974382"
         ],
         "type": "scatter",
         "x": [
          0,
          0.2,
          null
         ],
         "y": [
          1,
          2,
          null
         ]
        },
        {
         "hoverinfo": "text",
         "line": {
          "color": "red",
          "width": 0.22838517840805123
         },
         "marker": {
          "showscale": false
         },
         "mode": "lines",
         "text": [
          "0.11419258920402561"
         ],
         "type": "scatter",
         "x": [
          0,
          0.30000000000000004,
          null
         ],
         "y": [
          1,
          2,
          null
         ]
        },
        {
         "hoverinfo": "text",
         "line": {
          "color": "red",
          "width": 0.7108874656907593
         },
         "marker": {
          "showscale": false
         },
         "mode": "lines",
         "text": [
          "0.35544373284537967"
         ],
         "type": "scatter",
         "x": [
          0,
          0.4,
          null
         ],
         "y": [
          1,
          2,
          null
         ]
        },
        {
         "hoverinfo": "text",
         "line": {
          "color": "red",
          "width": 0
         },
         "marker": {
          "showscale": false
         },
         "mode": "lines",
         "text": [
          "0.0"
         ],
         "type": "scatter",
         "x": [
          0,
          0.18333333333333335,
          null
         ],
         "y": [
          1,
          0,
          null
         ]
        },
        {
         "hoverinfo": "text",
         "line": {
          "color": "red",
          "width": 0
         },
         "marker": {
          "showscale": false
         },
         "mode": "lines",
         "text": [
          "0.0"
         ],
         "type": "scatter",
         "x": [
          0.1,
          0,
          null
         ],
         "y": [
          1,
          1,
          null
         ]
        },
        {
         "hoverinfo": "text",
         "line": {
          "color": "red",
          "width": 0
         },
         "marker": {
          "showscale": false
         },
         "mode": "lines",
         "text": [
          "0.0"
         ],
         "type": "scatter",
         "x": [
          0.1,
          0.2,
          null
         ],
         "y": [
          1,
          1,
          null
         ]
        },
        {
         "hoverinfo": "text",
         "line": {
          "color": "red",
          "width": 0
         },
         "marker": {
          "showscale": false
         },
         "mode": "lines",
         "text": [
          "0.0"
         ],
         "type": "scatter",
         "x": [
          0.1,
          0.30000000000000004,
          null
         ],
         "y": [
          1,
          1,
          null
         ]
        },
        {
         "hoverinfo": "text",
         "line": {
          "color": "red",
          "width": 0
         },
         "marker": {
          "showscale": false
         },
         "mode": "lines",
         "text": [
          "0.0"
         ],
         "type": "scatter",
         "x": [
          0.1,
          0.4,
          null
         ],
         "y": [
          1,
          1,
          null
         ]
        },
        {
         "hoverinfo": "text",
         "line": {
          "color": "red",
          "width": 0.013462742642454603
         },
         "marker": {
          "showscale": false
         },
         "mode": "lines",
         "text": [
          "0.006731371321227302"
         ],
         "type": "scatter",
         "x": [
          0.1,
          0,
          null
         ],
         "y": [
          1,
          2,
          null
         ]
        },
        {
         "hoverinfo": "text",
         "line": {
          "color": "red",
          "width": 0.017219787100814028
         },
         "marker": {
          "showscale": false
         },
         "mode": "lines",
         "text": [
          "0.008609893550407014"
         ],
         "type": "scatter",
         "x": [
          0.1,
          0.1,
          null
         ],
         "y": [
          1,
          2,
          null
         ]
        },
        {
         "hoverinfo": "text",
         "line": {
          "color": "red",
          "width": 1.7777082028804008
         },
         "marker": {
          "showscale": false
         },
         "mode": "lines",
         "text": [
          "0.8888541014402004"
         ],
         "type": "scatter",
         "x": [
          0.1,
          0.2,
          null
         ],
         "y": [
          1,
          2,
          null
         ]
        },
        {
         "hoverinfo": "text",
         "line": {
          "color": "red",
          "width": 0.14777708202880402
         },
         "marker": {
          "showscale": false
         },
         "mode": "lines",
         "text": [
          "0.07388854101440201"
         ],
         "type": "scatter",
         "x": [
          0.1,
          0.30000000000000004,
          null
         ],
         "y": [
          1,
          2,
          null
         ]
        },
        {
         "hoverinfo": "text",
         "line": {
          "color": "red",
          "width": 0.043832185347526614
         },
         "marker": {
          "showscale": false
         },
         "mode": "lines",
         "text": [
          "0.021916092673763307"
         ],
         "type": "scatter",
         "x": [
          0.1,
          0.4,
          null
         ],
         "y": [
          1,
          2,
          null
         ]
        },
        {
         "hoverinfo": "text",
         "line": {
          "color": "red",
          "width": 0
         },
         "marker": {
          "showscale": false
         },
         "mode": "lines",
         "text": [
          "0.0"
         ],
         "type": "scatter",
         "x": [
          0.1,
          0.18333333333333335,
          null
         ],
         "y": [
          1,
          0,
          null
         ]
        },
        {
         "hoverinfo": "text",
         "line": {
          "color": "red",
          "width": 0
         },
         "marker": {
          "showscale": false
         },
         "mode": "lines",
         "text": [
          "0.0"
         ],
         "type": "scatter",
         "x": [
          0.2,
          0,
          null
         ],
         "y": [
          1,
          1,
          null
         ]
        },
        {
         "hoverinfo": "text",
         "line": {
          "color": "red",
          "width": 0
         },
         "marker": {
          "showscale": false
         },
         "mode": "lines",
         "text": [
          "0.0"
         ],
         "type": "scatter",
         "x": [
          0.2,
          0.1,
          null
         ],
         "y": [
          1,
          1,
          null
         ]
        },
        {
         "hoverinfo": "text",
         "line": {
          "color": "red",
          "width": 0
         },
         "marker": {
          "showscale": false
         },
         "mode": "lines",
         "text": [
          "0.0"
         ],
         "type": "scatter",
         "x": [
          0.2,
          0.30000000000000004,
          null
         ],
         "y": [
          1,
          1,
          null
         ]
        },
        {
         "hoverinfo": "text",
         "line": {
          "color": "red",
          "width": 0
         },
         "marker": {
          "showscale": false
         },
         "mode": "lines",
         "text": [
          "0.0"
         ],
         "type": "scatter",
         "x": [
          0.2,
          0.4,
          null
         ],
         "y": [
          1,
          1,
          null
         ]
        },
        {
         "hoverinfo": "text",
         "line": {
          "color": "red",
          "width": 0.012108631724615118
         },
         "marker": {
          "showscale": false
         },
         "mode": "lines",
         "text": [
          "0.006054315862307559"
         ],
         "type": "scatter",
         "x": [
          0.2,
          0,
          null
         ],
         "y": [
          1,
          2,
          null
         ]
        },
        {
         "hoverinfo": "text",
         "line": {
          "color": "red",
          "width": 0.9814910915066597
         },
         "marker": {
          "showscale": false
         },
         "mode": "lines",
         "text": [
          "0.49074554575332985"
         ],
         "type": "scatter",
         "x": [
          0.2,
          0.1,
          null
         ],
         "y": [
          1,
          2,
          null
         ]
        },
        {
         "hoverinfo": "text",
         "line": {
          "color": "red",
          "width": 0.01729804532087874
         },
         "marker": {
          "showscale": false
         },
         "mode": "lines",
         "text": [
          "0.00864902266043937"
         ],
         "type": "scatter",
         "x": [
          0.2,
          0.2,
          null
         ],
         "y": [
          1,
          2,
          null
         ]
        },
        {
         "hoverinfo": "text",
         "line": {
          "color": "red",
          "width": 0.48849679986161565
         },
         "marker": {
          "showscale": false
         },
         "mode": "lines",
         "text": [
          "0.24424839993080782"
         ],
         "type": "scatter",
         "x": [
          0.2,
          0.30000000000000004,
          null
         ],
         "y": [
          1,
          2,
          null
         ]
        },
        {
         "hoverinfo": "text",
         "line": {
          "color": "red",
          "width": 0.5006054315862307
         },
         "marker": {
          "showscale": false
         },
         "mode": "lines",
         "text": [
          "0.25030271579311536"
         ],
         "type": "scatter",
         "x": [
          0.2,
          0.4,
          null
         ],
         "y": [
          1,
          2,
          null
         ]
        },
        {
         "hoverinfo": "text",
         "line": {
          "color": "red",
          "width": 0
         },
         "marker": {
          "showscale": false
         },
         "mode": "lines",
         "text": [
          "0.0"
         ],
         "type": "scatter",
         "x": [
          0.2,
          0.18333333333333335,
          null
         ],
         "y": [
          1,
          0,
          null
         ]
        },
        {
         "hoverinfo": "text",
         "line": {
          "color": "red",
          "width": 0
         },
         "marker": {
          "showscale": false
         },
         "mode": "lines",
         "text": [
          "0.0"
         ],
         "type": "scatter",
         "x": [
          0.30000000000000004,
          0,
          null
         ],
         "y": [
          1,
          1,
          null
         ]
        },
        {
         "hoverinfo": "text",
         "line": {
          "color": "red",
          "width": 0
         },
         "marker": {
          "showscale": false
         },
         "mode": "lines",
         "text": [
          "0.0"
         ],
         "type": "scatter",
         "x": [
          0.30000000000000004,
          0.1,
          null
         ],
         "y": [
          1,
          1,
          null
         ]
        },
        {
         "hoverinfo": "text",
         "line": {
          "color": "red",
          "width": 0
         },
         "marker": {
          "showscale": false
         },
         "mode": "lines",
         "text": [
          "0.0"
         ],
         "type": "scatter",
         "x": [
          0.30000000000000004,
          0.2,
          null
         ],
         "y": [
          1,
          1,
          null
         ]
        },
        {
         "hoverinfo": "text",
         "line": {
          "color": "red",
          "width": 0
         },
         "marker": {
          "showscale": false
         },
         "mode": "lines",
         "text": [
          "0.0"
         ],
         "type": "scatter",
         "x": [
          0.30000000000000004,
          0.4,
          null
         ],
         "y": [
          1,
          1,
          null
         ]
        },
        {
         "hoverinfo": "text",
         "line": {
          "color": "red",
          "width": 0.19452207937395194
         },
         "marker": {
          "showscale": false
         },
         "mode": "lines",
         "text": [
          "0.09726103968697597"
         ],
         "type": "scatter",
         "x": [
          0.30000000000000004,
          0,
          null
         ],
         "y": [
          1,
          2,
          null
         ]
        },
        {
         "hoverinfo": "text",
         "line": {
          "color": "red",
          "width": 0.06148686416992733
         },
         "marker": {
          "showscale": false
         },
         "mode": "lines",
         "text": [
          "0.030743432084963666"
         ],
         "type": "scatter",
         "x": [
          0.30000000000000004,
          0.1,
          null
         ],
         "y": [
          1,
          2,
          null
         ]
        },
        {
         "hoverinfo": "text",
         "line": {
          "color": "red",
          "width": 0.02850754611514813
         },
         "marker": {
          "showscale": false
         },
         "mode": "lines",
         "text": [
          "0.014253773057574064"
         ],
         "type": "scatter",
         "x": [
          0.30000000000000004,
          0.2,
          null
         ],
         "y": [
          1,
          2,
          null
         ]
        },
        {
         "hoverinfo": "text",
         "line": {
          "color": "red",
          "width": 1.1825041922861934
         },
         "marker": {
          "showscale": false
         },
         "mode": "lines",
         "text": [
          "0.5912520961430967"
         ],
         "type": "scatter",
         "x": [
          0.30000000000000004,
          0.30000000000000004,
          null
         ],
         "y": [
          1,
          2,
          null
         ]
        },
        {
         "hoverinfo": "text",
         "line": {
          "color": "red",
          "width": 0.5329793180547792
         },
         "marker": {
          "showscale": false
         },
         "mode": "lines",
         "text": [
          "0.2664896590273896"
         ],
         "type": "scatter",
         "x": [
          0.30000000000000004,
          0.4,
          null
         ],
         "y": [
          1,
          2,
          null
         ]
        },
        {
         "hoverinfo": "text",
         "line": {
          "color": "red",
          "width": 0
         },
         "marker": {
          "showscale": false
         },
         "mode": "lines",
         "text": [
          "0.0"
         ],
         "type": "scatter",
         "x": [
          0.30000000000000004,
          0.18333333333333335,
          null
         ],
         "y": [
          1,
          0,
          null
         ]
        },
        {
         "hoverinfo": "text",
         "line": {
          "color": "red",
          "width": 0
         },
         "marker": {
          "showscale": false
         },
         "mode": "lines",
         "text": [
          "0.0"
         ],
         "type": "scatter",
         "x": [
          0.4,
          0,
          null
         ],
         "y": [
          1,
          1,
          null
         ]
        },
        {
         "hoverinfo": "text",
         "line": {
          "color": "red",
          "width": 0
         },
         "marker": {
          "showscale": false
         },
         "mode": "lines",
         "text": [
          "0.0"
         ],
         "type": "scatter",
         "x": [
          0.4,
          0.1,
          null
         ],
         "y": [
          1,
          1,
          null
         ]
        },
        {
         "hoverinfo": "text",
         "line": {
          "color": "red",
          "width": 0
         },
         "marker": {
          "showscale": false
         },
         "mode": "lines",
         "text": [
          "0.0"
         ],
         "type": "scatter",
         "x": [
          0.4,
          0.2,
          null
         ],
         "y": [
          1,
          1,
          null
         ]
        },
        {
         "hoverinfo": "text",
         "line": {
          "color": "red",
          "width": 0
         },
         "marker": {
          "showscale": false
         },
         "mode": "lines",
         "text": [
          "0.0"
         ],
         "type": "scatter",
         "x": [
          0.4,
          0.30000000000000004,
          null
         ],
         "y": [
          1,
          1,
          null
         ]
        },
        {
         "hoverinfo": "text",
         "line": {
          "color": "red",
          "width": 0.0955607060082011
         },
         "marker": {
          "showscale": false
         },
         "mode": "lines",
         "text": [
          "0.04778035300410055"
         ],
         "type": "scatter",
         "x": [
          0.4,
          0,
          null
         ],
         "y": [
          1,
          2,
          null
         ]
        },
        {
         "hoverinfo": "text",
         "line": {
          "color": "red",
          "width": 0.5822784810126582
         },
         "marker": {
          "showscale": false
         },
         "mode": "lines",
         "text": [
          "0.2911392405063291"
         ],
         "type": "scatter",
         "x": [
          0.4,
          0.1,
          null
         ],
         "y": [
          1,
          2,
          null
         ]
        },
        {
         "hoverinfo": "text",
         "line": {
          "color": "red",
          "width": 0.01390622214298449
         },
         "marker": {
          "showscale": false
         },
         "mode": "lines",
         "text": [
          "0.006953111071492245"
         ],
         "type": "scatter",
         "x": [
          0.4,
          0.2,
          null
         ],
         "y": [
          1,
          2,
          null
         ]
        },
        {
         "hoverinfo": "text",
         "line": {
          "color": "red",
          "width": 1.1802460331609912
         },
         "marker": {
          "showscale": false
         },
         "mode": "lines",
         "text": [
          "0.5901230165804956"
         ],
         "type": "scatter",
         "x": [
          0.4,
          0.30000000000000004,
          null
         ],
         "y": [
          1,
          2,
          null
         ]
        },
        {
         "hoverinfo": "text",
         "line": {
          "color": "red",
          "width": 0.12800855767516492
         },
         "marker": {
          "showscale": false
         },
         "mode": "lines",
         "text": [
          "0.06400427883758246"
         ],
         "type": "scatter",
         "x": [
          0.4,
          0.4,
          null
         ],
         "y": [
          1,
          2,
          null
         ]
        },
        {
         "hoverinfo": "text",
         "line": {
          "color": "red",
          "width": 0
         },
         "marker": {
          "showscale": false
         },
         "mode": "lines",
         "text": [
          "0.0"
         ],
         "type": "scatter",
         "x": [
          0.4,
          0.18333333333333335,
          null
         ],
         "y": [
          1,
          0,
          null
         ]
        },
        {
         "hoverinfo": "text",
         "line": {
          "color": "blue",
          "width": 1.1984971822166561
         },
         "marker": {
          "showscale": false
         },
         "mode": "lines",
         "text": [
          "0.5992485911083281"
         ],
         "type": "scatter",
         "x": [
          0,
          0,
          null
         ],
         "y": [
          2,
          1,
          null
         ]
        },
        {
         "hoverinfo": "text",
         "line": {
          "color": "blue",
          "width": 0.06537257357545398
         },
         "marker": {
          "showscale": false
         },
         "mode": "lines",
         "text": [
          "0.03268628678772699"
         ],
         "type": "scatter",
         "x": [
          0,
          0.1,
          null
         ],
         "y": [
          2,
          1,
          null
         ]
        },
        {
         "hoverinfo": "text",
         "line": {
          "color": "blue",
          "width": 0.03155917345021916
         },
         "marker": {
          "showscale": false
         },
         "mode": "lines",
         "text": [
          "0.01577958672510958"
         ],
         "type": "scatter",
         "x": [
          0,
          0.2,
          null
         ],
         "y": [
          2,
          1,
          null
         ]
        },
        {
         "hoverinfo": "text",
         "line": {
          "color": "blue",
          "width": 0.5370068879148403
         },
         "marker": {
          "showscale": false
         },
         "mode": "lines",
         "text": [
          "0.26850344395742015"
         ],
         "type": "scatter",
         "x": [
          0,
          0.30000000000000004,
          null
         ],
         "y": [
          2,
          1,
          null
         ]
        },
        {
         "hoverinfo": "text",
         "line": {
          "color": "blue",
          "width": 0.1675641828428303
         },
         "marker": {
          "showscale": false
         },
         "mode": "lines",
         "text": [
          "0.08378209142141516"
         ],
         "type": "scatter",
         "x": [
          0,
          0.4,
          null
         ],
         "y": [
          2,
          1,
          null
         ]
        },
        {
         "hoverinfo": "text",
         "line": {
          "color": "blue",
          "width": 0
         },
         "marker": {
          "showscale": false
         },
         "mode": "lines",
         "text": [
          "0.0"
         ],
         "type": "scatter",
         "x": [
          0,
          0.1,
          null
         ],
         "y": [
          2,
          2,
          null
         ]
        },
        {
         "hoverinfo": "text",
         "line": {
          "color": "blue",
          "width": 0
         },
         "marker": {
          "showscale": false
         },
         "mode": "lines",
         "text": [
          "0.0"
         ],
         "type": "scatter",
         "x": [
          0,
          0.2,
          null
         ],
         "y": [
          2,
          2,
          null
         ]
        },
        {
         "hoverinfo": "text",
         "line": {
          "color": "blue",
          "width": 0
         },
         "marker": {
          "showscale": false
         },
         "mode": "lines",
         "text": [
          "0.0"
         ],
         "type": "scatter",
         "x": [
          0,
          0.30000000000000004,
          null
         ],
         "y": [
          2,
          2,
          null
         ]
        },
        {
         "hoverinfo": "text",
         "line": {
          "color": "blue",
          "width": 0
         },
         "marker": {
          "showscale": false
         },
         "mode": "lines",
         "text": [
          "0.0"
         ],
         "type": "scatter",
         "x": [
          0,
          0.4,
          null
         ],
         "y": [
          2,
          2,
          null
         ]
        },
        {
         "hoverinfo": "text",
         "line": {
          "color": "blue",
          "width": 0
         },
         "marker": {
          "showscale": false
         },
         "mode": "lines",
         "text": [
          "0.0"
         ],
         "type": "scatter",
         "x": [
          0,
          0.18333333333333335,
          null
         ],
         "y": [
          2,
          0,
          null
         ]
        },
        {
         "hoverinfo": "text",
         "line": {
          "color": "blue",
          "width": 0.4405573673287874
         },
         "marker": {
          "showscale": false
         },
         "mode": "lines",
         "text": [
          "0.2202786836643937"
         ],
         "type": "scatter",
         "x": [
          0.1,
          0,
          null
         ],
         "y": [
          2,
          1,
          null
         ]
        },
        {
         "hoverinfo": "text",
         "line": {
          "color": "blue",
          "width": 0.09279573080343907
         },
         "marker": {
          "showscale": false
         },
         "mode": "lines",
         "text": [
          "0.046397865401719536"
         ],
         "type": "scatter",
         "x": [
          0.1,
          0.1,
          null
         ],
         "y": [
          2,
          1,
          null
         ]
        },
        {
         "hoverinfo": "text",
         "line": {
          "color": "blue",
          "width": 0.7829825081529795
         },
         "marker": {
          "showscale": false
         },
         "mode": "lines",
         "text": [
          "0.39149125407648977"
         ],
         "type": "scatter",
         "x": [
          0.1,
          0.2,
          null
         ],
         "y": [
          2,
          1,
          null
         ]
        },
        {
         "hoverinfo": "text",
         "line": {
          "color": "blue",
          "width": 0.16632078268603617
         },
         "marker": {
          "showscale": false
         },
         "mode": "lines",
         "text": [
          "0.08316039134301809"
         ],
         "type": "scatter",
         "x": [
          0.1,
          0.30000000000000004,
          null
         ],
         "y": [
          2,
          1,
          null
         ]
        },
        {
         "hoverinfo": "text",
         "line": {
          "color": "blue",
          "width": 0.5173436110287578
         },
         "marker": {
          "showscale": false
         },
         "mode": "lines",
         "text": [
          "0.2586718055143789"
         ],
         "type": "scatter",
         "x": [
          0.1,
          0.4,
          null
         ],
         "y": [
          2,
          1,
          null
         ]
        },
        {
         "hoverinfo": "text",
         "line": {
          "color": "blue",
          "width": 0
         },
         "marker": {
          "showscale": false
         },
         "mode": "lines",
         "text": [
          "0.0"
         ],
         "type": "scatter",
         "x": [
          0.1,
          0,
          null
         ],
         "y": [
          2,
          2,
          null
         ]
        },
        {
         "hoverinfo": "text",
         "line": {
          "color": "blue",
          "width": 0
         },
         "marker": {
          "showscale": false
         },
         "mode": "lines",
         "text": [
          "0.0"
         ],
         "type": "scatter",
         "x": [
          0.1,
          0.2,
          null
         ],
         "y": [
          2,
          2,
          null
         ]
        },
        {
         "hoverinfo": "text",
         "line": {
          "color": "blue",
          "width": 0
         },
         "marker": {
          "showscale": false
         },
         "mode": "lines",
         "text": [
          "0.0"
         ],
         "type": "scatter",
         "x": [
          0.1,
          0.30000000000000004,
          null
         ],
         "y": [
          2,
          2,
          null
         ]
        },
        {
         "hoverinfo": "text",
         "line": {
          "color": "blue",
          "width": 0
         },
         "marker": {
          "showscale": false
         },
         "mode": "lines",
         "text": [
          "0.0"
         ],
         "type": "scatter",
         "x": [
          0.1,
          0.4,
          null
         ],
         "y": [
          2,
          2,
          null
         ]
        },
        {
         "hoverinfo": "text",
         "line": {
          "color": "blue",
          "width": 0
         },
         "marker": {
          "showscale": false
         },
         "mode": "lines",
         "text": [
          "0.0"
         ],
         "type": "scatter",
         "x": [
          0.1,
          0.18333333333333335,
          null
         ],
         "y": [
          2,
          0,
          null
         ]
        },
        {
         "hoverinfo": "text",
         "line": {
          "color": "blue",
          "width": 0.3198992443324937
         },
         "marker": {
          "showscale": false
         },
         "mode": "lines",
         "text": [
          "0.15994962216624686"
         ],
         "type": "scatter",
         "x": [
          0.2,
          0,
          null
         ],
         "y": [
          2,
          1,
          null
         ]
        },
        {
         "hoverinfo": "text",
         "line": {
          "color": "blue",
          "width": 1.3778337531486147
         },
         "marker": {
          "showscale": false
         },
         "mode": "lines",
         "text": [
          "0.6889168765743073"
         ],
         "type": "scatter",
         "x": [
          0.2,
          0.1,
          null
         ],
         "y": [
          2,
          1,
          null
         ]
        },
        {
         "hoverinfo": "text",
         "line": {
          "color": "blue",
          "width": 0.13602015113350127
         },
         "marker": {
          "showscale": false
         },
         "mode": "lines",
         "text": [
          "0.06801007556675064"
         ],
         "type": "scatter",
         "x": [
          0.2,
          0.2,
          null
         ],
         "y": [
          2,
          1,
          null
         ]
        },
        {
         "hoverinfo": "text",
         "line": {
          "color": "blue",
          "width": 0.06801007556675064
         },
         "marker": {
          "showscale": false
         },
         "mode": "lines",
         "text": [
          "0.03400503778337532"
         ],
         "type": "scatter",
         "x": [
          0.2,
          0.30000000000000004,
          null
         ],
         "y": [
          2,
          1,
          null
         ]
        },
        {
         "hoverinfo": "text",
         "line": {
          "color": "blue",
          "width": 0.0982367758186398
         },
         "marker": {
          "showscale": false
         },
         "mode": "lines",
         "text": [
          "0.0491183879093199"
         ],
         "type": "scatter",
         "x": [
          0.2,
          0.4,
          null
         ],
         "y": [
          2,
          1,
          null
         ]
        },
        {
         "hoverinfo": "text",
         "line": {
          "color": "blue",
          "width": 0
         },
         "marker": {
          "showscale": false
         },
         "mode": "lines",
         "text": [
          "0.0"
         ],
         "type": "scatter",
         "x": [
          0.2,
          0,
          null
         ],
         "y": [
          2,
          2,
          null
         ]
        },
        {
         "hoverinfo": "text",
         "line": {
          "color": "blue",
          "width": 0
         },
         "marker": {
          "showscale": false
         },
         "mode": "lines",
         "text": [
          "0.0"
         ],
         "type": "scatter",
         "x": [
          0.2,
          0.1,
          null
         ],
         "y": [
          2,
          2,
          null
         ]
        },
        {
         "hoverinfo": "text",
         "line": {
          "color": "blue",
          "width": 0
         },
         "marker": {
          "showscale": false
         },
         "mode": "lines",
         "text": [
          "0.0"
         ],
         "type": "scatter",
         "x": [
          0.2,
          0.30000000000000004,
          null
         ],
         "y": [
          2,
          2,
          null
         ]
        },
        {
         "hoverinfo": "text",
         "line": {
          "color": "blue",
          "width": 0
         },
         "marker": {
          "showscale": false
         },
         "mode": "lines",
         "text": [
          "0.0"
         ],
         "type": "scatter",
         "x": [
          0.2,
          0.4,
          null
         ],
         "y": [
          2,
          2,
          null
         ]
        },
        {
         "hoverinfo": "text",
         "line": {
          "color": "blue",
          "width": 0
         },
         "marker": {
          "showscale": false
         },
         "mode": "lines",
         "text": [
          "0.0"
         ],
         "type": "scatter",
         "x": [
          0.2,
          0.18333333333333335,
          null
         ],
         "y": [
          2,
          0,
          null
         ]
        },
        {
         "hoverinfo": "text",
         "line": {
          "color": "blue",
          "width": 0.5264100268576545
         },
         "marker": {
          "showscale": false
         },
         "mode": "lines",
         "text": [
          "0.26320501342882724"
         ],
         "type": "scatter",
         "x": [
          0.30000000000000004,
          0,
          null
         ],
         "y": [
          2,
          1,
          null
         ]
        },
        {
         "hoverinfo": "text",
         "line": {
          "color": "blue",
          "width": 0.8687555953446733
         },
         "marker": {
          "showscale": false
         },
         "mode": "lines",
         "text": [
          "0.43437779767233664"
         ],
         "type": "scatter",
         "x": [
          0.30000000000000004,
          0.1,
          null
         ],
         "y": [
          2,
          1,
          null
         ]
        },
        {
         "hoverinfo": "text",
         "line": {
          "color": "blue",
          "width": 0.18907788719785137
         },
         "marker": {
          "showscale": false
         },
         "mode": "lines",
         "text": [
          "0.09453894359892569"
         ],
         "type": "scatter",
         "x": [
          0.30000000000000004,
          0.2,
          null
         ],
         "y": [
          2,
          1,
          null
         ]
        },
        {
         "hoverinfo": "text",
         "line": {
          "color": "blue",
          "width": 0.12569382273948077
         },
         "marker": {
          "showscale": false
         },
         "mode": "lines",
         "text": [
          "0.06284691136974038"
         ],
         "type": "scatter",
         "x": [
          0.30000000000000004,
          0.30000000000000004,
          null
         ],
         "y": [
          2,
          1,
          null
         ]
        },
        {
         "hoverinfo": "text",
         "line": {
          "color": "blue",
          "width": 0.2900626678603402
         },
         "marker": {
          "showscale": false
         },
         "mode": "lines",
         "text": [
          "0.1450313339301701"
         ],
         "type": "scatter",
         "x": [
          0.30000000000000004,
          0.4,
          null
         ],
         "y": [
          2,
          1,
          null
         ]
        },
        {
         "hoverinfo": "text",
         "line": {
          "color": "blue",
          "width": 0
         },
         "marker": {
          "showscale": false
         },
         "mode": "lines",
         "text": [
          "0.0"
         ],
         "type": "scatter",
         "x": [
          0.30000000000000004,
          0,
          null
         ],
         "y": [
          2,
          2,
          null
         ]
        },
        {
         "hoverinfo": "text",
         "line": {
          "color": "blue",
          "width": 0
         },
         "marker": {
          "showscale": false
         },
         "mode": "lines",
         "text": [
          "0.0"
         ],
         "type": "scatter",
         "x": [
          0.30000000000000004,
          0.1,
          null
         ],
         "y": [
          2,
          2,
          null
         ]
        },
        {
         "hoverinfo": "text",
         "line": {
          "color": "blue",
          "width": 0
         },
         "marker": {
          "showscale": false
         },
         "mode": "lines",
         "text": [
          "0.0"
         ],
         "type": "scatter",
         "x": [
          0.30000000000000004,
          0.2,
          null
         ],
         "y": [
          2,
          2,
          null
         ]
        },
        {
         "hoverinfo": "text",
         "line": {
          "color": "blue",
          "width": 0
         },
         "marker": {
          "showscale": false
         },
         "mode": "lines",
         "text": [
          "0.0"
         ],
         "type": "scatter",
         "x": [
          0.30000000000000004,
          0.4,
          null
         ],
         "y": [
          2,
          2,
          null
         ]
        },
        {
         "hoverinfo": "text",
         "line": {
          "color": "blue",
          "width": 0
         },
         "marker": {
          "showscale": false
         },
         "mode": "lines",
         "text": [
          "0.0"
         ],
         "type": "scatter",
         "x": [
          0.30000000000000004,
          0.18333333333333335,
          null
         ],
         "y": [
          2,
          0,
          null
         ]
        },
        {
         "hoverinfo": "text",
         "line": {
          "color": "blue",
          "width": 0.7303121852970795
         },
         "marker": {
          "showscale": false
         },
         "mode": "lines",
         "text": [
          "0.36515609264853977"
         ],
         "type": "scatter",
         "x": [
          0.4,
          0,
          null
         ],
         "y": [
          2,
          1,
          null
         ]
        },
        {
         "hoverinfo": "text",
         "line": {
          "color": "blue",
          "width": 0.08358509566968782
         },
         "marker": {
          "showscale": false
         },
         "mode": "lines",
         "text": [
          "0.04179254783484391"
         ],
         "type": "scatter",
         "x": [
          0.4,
          0.1,
          null
         ],
         "y": [
          2,
          1,
          null
         ]
        },
        {
         "hoverinfo": "text",
         "line": {
          "color": "blue",
          "width": 0.20040281973816718
         },
         "marker": {
          "showscale": false
         },
         "mode": "lines",
         "text": [
          "0.10020140986908359"
         ],
         "type": "scatter",
         "x": [
          0.4,
          0.2,
          null
         ],
         "y": [
          2,
          1,
          null
         ]
        },
        {
         "hoverinfo": "text",
         "line": {
          "color": "blue",
          "width": 0.7464249748237664
         },
         "marker": {
          "showscale": false
         },
         "mode": "lines",
         "text": [
          "0.3732124874118832"
         ],
         "type": "scatter",
         "x": [
          0.4,
          0.30000000000000004,
          null
         ],
         "y": [
          2,
          1,
          null
         ]
        },
        {
         "hoverinfo": "text",
         "line": {
          "color": "blue",
          "width": 0.23927492447129908
         },
         "marker": {
          "showscale": false
         },
         "mode": "lines",
         "text": [
          "0.11963746223564954"
         ],
         "type": "scatter",
         "x": [
          0.4,
          0.4,
          null
         ],
         "y": [
          2,
          1,
          null
         ]
        },
        {
         "hoverinfo": "text",
         "line": {
          "color": "blue",
          "width": 0
         },
         "marker": {
          "showscale": false
         },
         "mode": "lines",
         "text": [
          "0.0"
         ],
         "type": "scatter",
         "x": [
          0.4,
          0,
          null
         ],
         "y": [
          2,
          2,
          null
         ]
        },
        {
         "hoverinfo": "text",
         "line": {
          "color": "blue",
          "width": 0
         },
         "marker": {
          "showscale": false
         },
         "mode": "lines",
         "text": [
          "0.0"
         ],
         "type": "scatter",
         "x": [
          0.4,
          0.1,
          null
         ],
         "y": [
          2,
          2,
          null
         ]
        },
        {
         "hoverinfo": "text",
         "line": {
          "color": "blue",
          "width": 0
         },
         "marker": {
          "showscale": false
         },
         "mode": "lines",
         "text": [
          "0.0"
         ],
         "type": "scatter",
         "x": [
          0.4,
          0.2,
          null
         ],
         "y": [
          2,
          2,
          null
         ]
        },
        {
         "hoverinfo": "text",
         "line": {
          "color": "blue",
          "width": 0
         },
         "marker": {
          "showscale": false
         },
         "mode": "lines",
         "text": [
          "0.0"
         ],
         "type": "scatter",
         "x": [
          0.4,
          0.30000000000000004,
          null
         ],
         "y": [
          2,
          2,
          null
         ]
        },
        {
         "hoverinfo": "text",
         "line": {
          "color": "blue",
          "width": 0
         },
         "marker": {
          "showscale": false
         },
         "mode": "lines",
         "text": [
          "0.0"
         ],
         "type": "scatter",
         "x": [
          0.4,
          0.18333333333333335,
          null
         ],
         "y": [
          2,
          0,
          null
         ]
        },
        {
         "hoverinfo": "text",
         "line": {
          "color": "#888",
          "width": 1.5608073141279972
         },
         "marker": {
          "showscale": false
         },
         "mode": "lines",
         "text": [
          "0.7804036570639986"
         ],
         "type": "scatter",
         "x": [
          0.18333333333333335,
          0,
          null
         ],
         "y": [
          0,
          1,
          null
         ]
        },
        {
         "hoverinfo": "text",
         "line": {
          "color": "#888",
          "width": 0
         },
         "marker": {
          "showscale": false
         },
         "mode": "lines",
         "text": [
          "0.0"
         ],
         "type": "scatter",
         "x": [
          0.18333333333333335,
          0.1,
          null
         ],
         "y": [
          0,
          1,
          null
         ]
        },
        {
         "hoverinfo": "text",
         "line": {
          "color": "#888",
          "width": 0.3136104881835432
         },
         "marker": {
          "showscale": false
         },
         "mode": "lines",
         "text": [
          "0.1568052440917716"
         ],
         "type": "scatter",
         "x": [
          0.18333333333333335,
          0.2,
          null
         ],
         "y": [
          0,
          1,
          null
         ]
        },
        {
         "hoverinfo": "text",
         "line": {
          "color": "#888",
          "width": 0.005520096601690529
         },
         "marker": {
          "showscale": false
         },
         "mode": "lines",
         "text": [
          "0.0027600483008452647"
         ],
         "type": "scatter",
         "x": [
          0.18333333333333335,
          0.30000000000000004,
          null
         ],
         "y": [
          0,
          1,
          null
         ]
        },
        {
         "hoverinfo": "text",
         "line": {
          "color": "#888",
          "width": 0.12006210108676901
         },
         "marker": {
          "showscale": false
         },
         "mode": "lines",
         "text": [
          "0.060031050543384507"
         ],
         "type": "scatter",
         "x": [
          0.18333333333333335,
          0.4,
          null
         ],
         "y": [
          0,
          1,
          null
         ]
        },
        {
         "hoverinfo": "text",
         "line": {
          "color": "#888",
          "width": 0
         },
         "marker": {
          "showscale": false
         },
         "mode": "lines",
         "text": [
          "0.0"
         ],
         "type": "scatter",
         "x": [
          0.18333333333333335,
          0,
          null
         ],
         "y": [
          0,
          2,
          null
         ]
        },
        {
         "hoverinfo": "text",
         "line": {
          "color": "#888",
          "width": 0
         },
         "marker": {
          "showscale": false
         },
         "mode": "lines",
         "text": [
          "0.0"
         ],
         "type": "scatter",
         "x": [
          0.18333333333333335,
          0.1,
          null
         ],
         "y": [
          0,
          2,
          null
         ]
        },
        {
         "hoverinfo": "text",
         "line": {
          "color": "#888",
          "width": 0
         },
         "marker": {
          "showscale": false
         },
         "mode": "lines",
         "text": [
          "0.0"
         ],
         "type": "scatter",
         "x": [
          0.18333333333333335,
          0.2,
          null
         ],
         "y": [
          0,
          2,
          null
         ]
        },
        {
         "hoverinfo": "text",
         "line": {
          "color": "#888",
          "width": 0
         },
         "marker": {
          "showscale": false
         },
         "mode": "lines",
         "text": [
          "0.0"
         ],
         "type": "scatter",
         "x": [
          0.18333333333333335,
          0.30000000000000004,
          null
         ],
         "y": [
          0,
          2,
          null
         ]
        },
        {
         "hoverinfo": "text",
         "line": {
          "color": "#888",
          "width": 0
         },
         "marker": {
          "showscale": false
         },
         "mode": "lines",
         "text": [
          "0.0"
         ],
         "type": "scatter",
         "x": [
          0.18333333333333335,
          0.4,
          null
         ],
         "y": [
          0,
          2,
          null
         ]
        },
        {
         "hoverinfo": "text",
         "marker": {
          "color": [
           0,
           0,
           0,
           0,
           0,
           1,
           1,
           1,
           1,
           1
          ],
          "colorscale": [
           [
            0,
            "rgb(0,0,131)"
           ],
           [
            0.2,
            "rgb(0,60,170)"
           ],
           [
            0.4,
            "rgb(5,255,255)"
           ],
           [
            0.6,
            "rgb(255,255,0)"
           ],
           [
            0.8,
            "rgb(250,0,0)"
           ],
           [
            1,
            "rgb(128,0,0)"
           ]
          ],
          "line": {
           "width": 2
          },
          "reversescale": true,
          "showscale": false,
          "size": [
           87.44,
           31.94,
           28.905,
           35.78,
           28.045,
           40.31,
           34.055,
           30.29,
           57.11,
           50.345,
           20
          ]
         },
         "mode": "markers",
         "text": [
          "USER (17488)<br>Yeah, I need a restaurant in the west and with expensive pricing.<br>I'm looking for an expensive restaurant in the centre if you could help me.<br>No need to book it. Thanks. But can you help me find a cheap restaurant in the south?<br>I am looking for a restaurant that is in the expensive price range and in the south part of town.",
          "USER (6388)<br>that is it thank you.<br>No that is it. Thank you!<br>Nope, that's it. Thanks!<br>No that is it. Thank you so much.",
          "USER (5781)<br>Saturday leaving Cambridge anytime after 20:00 please<br>I need the travel day to be Sunday. I'll be going to Cambridge and arrive by 13:45. I'll be leaving from Birmingham New street.<br>Yes, it should depart from Cambridge.<br>I am leaving birmingham new street and going to cambridge; I need to travel on Friday and arrive by 13:15.",
          "USER (7156)<br>6 people will be dining<br>No, I would like it for 4 people.<br>Four star please same group of people starting Thursday I need a ref number too please.<br>Just 1 person at 13:15 on thursday",
          "USER (5609)<br>Thanks, what is their phone number?<br>Can I get their phone number please?<br>I just need their address, star level and whether they have internet please.<br>Can you please recommend one and give me their postcode and phone number?",
          "SYSTEM (8062)<br>There is one option, it is The Lensfield Hotel. Do you want me to reserve any rooms for you?<br>The only other hotel that matches your requirements is the lensfield hotel located in the south. Would you like me to make a booking?<br>I recommend the Lensfield hotel on the south side. Shall I book a room?<br>The Lensfield has free parking and free internet. Did you need a room there, or perhaps their address?",
          "SYSTEM (6811)<br>What time do you need the taxi, and which is the destination site?<br>I will look a taxi up for you.<br>What time will you be needing the taxi service for?<br>You're welcome. May I help you with a taxi or restaurant booking?",
          "SYSTEM (6058)<br>Thank you for calling. Enjoy your dining experience.<br>Okay great. Enjoy your dining experience.<br>enjoy your meal!<br>You're welcome, enjoy your food.",
          "SYSTEM (11422)<br>Your booking was successful. Your reference number is FRGZWQL2 . May I help you further?<br>Booking was successful. Your reference number is 4UFN3SWC . Will that be all for today?<br>Your booking was successful. Your reference number is 3VX3AOKS .<br>Booking was successful. Reference number is : 36N9VCAD . Is there anything else I can help with?",
          "SYSTEM (10069)<br>TR3128 will leave at 20:40 and arrive by 21:08. Do you need more information or would you like to book tickets?<br>TR2514 leaves at 10:11 and arrives at 10:58. Will this one work for you?<br>Sure. The travel time for TR2514 is 47 minutes. Anything else I can help you with today?<br>TR5234 will leave at 14:16, would that work for you?",
          "START NODE"
         ],
         "type": "scatter",
         "x": [
          0,
          0.1,
          0.2,
          0.30000000000000004,
          0.4,
          0,
          0.1,
          0.2,
          0.30000000000000004,
          0.4,
          0.18333333333333335
         ],
         "y": [
          1,
          1,
          1,
          1,
          1,
          2,
          2,
          2,
          2,
          2,
          0
         ]
        }
       ],
       "layout": {
        "annotations": [
         {
          "showarrow": false,
          "text": "Target Dialogue: <br>i need a place to dine in the center thats expensive. <br> I have several options for you; do you prefer African, Asian, or British food?.<br> Any sort of food would be fine, as long as it is a bit expensive. Could I get the phone number for your recommendation?.<br> There is an Afrian place named Bedouin in the centre. How does that sound?. <br> Sounds good, could I get that phone number? Also, could you recommend me an expensive hotel?. <br> Bedouin's phone is 01223367660. As far as hotels go, I recommend the University Arms Hotel in the center of town.. <br> Yes. Can you book it for me?. <br> Sure, when would you like that reservation?. <br> i want to book it for 2 people and 2 nights starting from saturday.. <br> Your booking was successful. Your reference number is FRGZWQL2 . May I help you further?. <br> That is all I need to know. Thanks, good bye.. <br> Thank you so much for Cambridge TownInfo centre. Have a great day!.",
          "x": 0.005,
          "xref": "paper",
          "y": -0.001,
          "yref": "paper"
         }
        ],
        "hovermode": "closest",
        "margin": {
         "b": 20,
         "l": 5,
         "r": 5,
         "t": 40
        },
        "showlegend": false,
        "template": {
         "data": {
          "bar": [
           {
            "error_x": {
             "color": "#2a3f5f"
            },
            "error_y": {
             "color": "#2a3f5f"
            },
            "marker": {
             "line": {
              "color": "#E5ECF6",
              "width": 0.5
             },
             "pattern": {
              "fillmode": "overlay",
              "size": 10,
              "solidity": 0.2
             }
            },
            "type": "bar"
           }
          ],
          "barpolar": [
           {
            "marker": {
             "line": {
              "color": "#E5ECF6",
              "width": 0.5
             },
             "pattern": {
              "fillmode": "overlay",
              "size": 10,
              "solidity": 0.2
             }
            },
            "type": "barpolar"
           }
          ],
          "carpet": [
           {
            "aaxis": {
             "endlinecolor": "#2a3f5f",
             "gridcolor": "white",
             "linecolor": "white",
             "minorgridcolor": "white",
             "startlinecolor": "#2a3f5f"
            },
            "baxis": {
             "endlinecolor": "#2a3f5f",
             "gridcolor": "white",
             "linecolor": "white",
             "minorgridcolor": "white",
             "startlinecolor": "#2a3f5f"
            },
            "type": "carpet"
           }
          ],
          "choropleth": [
           {
            "colorbar": {
             "outlinewidth": 0,
             "ticks": ""
            },
            "type": "choropleth"
           }
          ],
          "contour": [
           {
            "colorbar": {
             "outlinewidth": 0,
             "ticks": ""
            },
            "colorscale": [
             [
              0,
              "#0d0887"
             ],
             [
              0.1111111111111111,
              "#46039f"
             ],
             [
              0.2222222222222222,
              "#7201a8"
             ],
             [
              0.3333333333333333,
              "#9c179e"
             ],
             [
              0.4444444444444444,
              "#bd3786"
             ],
             [
              0.5555555555555556,
              "#d8576b"
             ],
             [
              0.6666666666666666,
              "#ed7953"
             ],
             [
              0.7777777777777778,
              "#fb9f3a"
             ],
             [
              0.8888888888888888,
              "#fdca26"
             ],
             [
              1,
              "#f0f921"
             ]
            ],
            "type": "contour"
           }
          ],
          "contourcarpet": [
           {
            "colorbar": {
             "outlinewidth": 0,
             "ticks": ""
            },
            "type": "contourcarpet"
           }
          ],
          "heatmap": [
           {
            "colorbar": {
             "outlinewidth": 0,
             "ticks": ""
            },
            "colorscale": [
             [
              0,
              "#0d0887"
             ],
             [
              0.1111111111111111,
              "#46039f"
             ],
             [
              0.2222222222222222,
              "#7201a8"
             ],
             [
              0.3333333333333333,
              "#9c179e"
             ],
             [
              0.4444444444444444,
              "#bd3786"
             ],
             [
              0.5555555555555556,
              "#d8576b"
             ],
             [
              0.6666666666666666,
              "#ed7953"
             ],
             [
              0.7777777777777778,
              "#fb9f3a"
             ],
             [
              0.8888888888888888,
              "#fdca26"
             ],
             [
              1,
              "#f0f921"
             ]
            ],
            "type": "heatmap"
           }
          ],
          "heatmapgl": [
           {
            "colorbar": {
             "outlinewidth": 0,
             "ticks": ""
            },
            "colorscale": [
             [
              0,
              "#0d0887"
             ],
             [
              0.1111111111111111,
              "#46039f"
             ],
             [
              0.2222222222222222,
              "#7201a8"
             ],
             [
              0.3333333333333333,
              "#9c179e"
             ],
             [
              0.4444444444444444,
              "#bd3786"
             ],
             [
              0.5555555555555556,
              "#d8576b"
             ],
             [
              0.6666666666666666,
              "#ed7953"
             ],
             [
              0.7777777777777778,
              "#fb9f3a"
             ],
             [
              0.8888888888888888,
              "#fdca26"
             ],
             [
              1,
              "#f0f921"
             ]
            ],
            "type": "heatmapgl"
           }
          ],
          "histogram": [
           {
            "marker": {
             "pattern": {
              "fillmode": "overlay",
              "size": 10,
              "solidity": 0.2
             }
            },
            "type": "histogram"
           }
          ],
          "histogram2d": [
           {
            "colorbar": {
             "outlinewidth": 0,
             "ticks": ""
            },
            "colorscale": [
             [
              0,
              "#0d0887"
             ],
             [
              0.1111111111111111,
              "#46039f"
             ],
             [
              0.2222222222222222,
              "#7201a8"
             ],
             [
              0.3333333333333333,
              "#9c179e"
             ],
             [
              0.4444444444444444,
              "#bd3786"
             ],
             [
              0.5555555555555556,
              "#d8576b"
             ],
             [
              0.6666666666666666,
              "#ed7953"
             ],
             [
              0.7777777777777778,
              "#fb9f3a"
             ],
             [
              0.8888888888888888,
              "#fdca26"
             ],
             [
              1,
              "#f0f921"
             ]
            ],
            "type": "histogram2d"
           }
          ],
          "histogram2dcontour": [
           {
            "colorbar": {
             "outlinewidth": 0,
             "ticks": ""
            },
            "colorscale": [
             [
              0,
              "#0d0887"
             ],
             [
              0.1111111111111111,
              "#46039f"
             ],
             [
              0.2222222222222222,
              "#7201a8"
             ],
             [
              0.3333333333333333,
              "#9c179e"
             ],
             [
              0.4444444444444444,
              "#bd3786"
             ],
             [
              0.5555555555555556,
              "#d8576b"
             ],
             [
              0.6666666666666666,
              "#ed7953"
             ],
             [
              0.7777777777777778,
              "#fb9f3a"
             ],
             [
              0.8888888888888888,
              "#fdca26"
             ],
             [
              1,
              "#f0f921"
             ]
            ],
            "type": "histogram2dcontour"
           }
          ],
          "mesh3d": [
           {
            "colorbar": {
             "outlinewidth": 0,
             "ticks": ""
            },
            "type": "mesh3d"
           }
          ],
          "parcoords": [
           {
            "line": {
             "colorbar": {
              "outlinewidth": 0,
              "ticks": ""
             }
            },
            "type": "parcoords"
           }
          ],
          "pie": [
           {
            "automargin": true,
            "type": "pie"
           }
          ],
          "scatter": [
           {
            "fillpattern": {
             "fillmode": "overlay",
             "size": 10,
             "solidity": 0.2
            },
            "type": "scatter"
           }
          ],
          "scatter3d": [
           {
            "line": {
             "colorbar": {
              "outlinewidth": 0,
              "ticks": ""
             }
            },
            "marker": {
             "colorbar": {
              "outlinewidth": 0,
              "ticks": ""
             }
            },
            "type": "scatter3d"
           }
          ],
          "scattercarpet": [
           {
            "marker": {
             "colorbar": {
              "outlinewidth": 0,
              "ticks": ""
             }
            },
            "type": "scattercarpet"
           }
          ],
          "scattergeo": [
           {
            "marker": {
             "colorbar": {
              "outlinewidth": 0,
              "ticks": ""
             }
            },
            "type": "scattergeo"
           }
          ],
          "scattergl": [
           {
            "marker": {
             "colorbar": {
              "outlinewidth": 0,
              "ticks": ""
             }
            },
            "type": "scattergl"
           }
          ],
          "scattermapbox": [
           {
            "marker": {
             "colorbar": {
              "outlinewidth": 0,
              "ticks": ""
             }
            },
            "type": "scattermapbox"
           }
          ],
          "scatterpolar": [
           {
            "marker": {
             "colorbar": {
              "outlinewidth": 0,
              "ticks": ""
             }
            },
            "type": "scatterpolar"
           }
          ],
          "scatterpolargl": [
           {
            "marker": {
             "colorbar": {
              "outlinewidth": 0,
              "ticks": ""
             }
            },
            "type": "scatterpolargl"
           }
          ],
          "scatterternary": [
           {
            "marker": {
             "colorbar": {
              "outlinewidth": 0,
              "ticks": ""
             }
            },
            "type": "scatterternary"
           }
          ],
          "surface": [
           {
            "colorbar": {
             "outlinewidth": 0,
             "ticks": ""
            },
            "colorscale": [
             [
              0,
              "#0d0887"
             ],
             [
              0.1111111111111111,
              "#46039f"
             ],
             [
              0.2222222222222222,
              "#7201a8"
             ],
             [
              0.3333333333333333,
              "#9c179e"
             ],
             [
              0.4444444444444444,
              "#bd3786"
             ],
             [
              0.5555555555555556,
              "#d8576b"
             ],
             [
              0.6666666666666666,
              "#ed7953"
             ],
             [
              0.7777777777777778,
              "#fb9f3a"
             ],
             [
              0.8888888888888888,
              "#fdca26"
             ],
             [
              1,
              "#f0f921"
             ]
            ],
            "type": "surface"
           }
          ],
          "table": [
           {
            "cells": {
             "fill": {
              "color": "#EBF0F8"
             },
             "line": {
              "color": "white"
             }
            },
            "header": {
             "fill": {
              "color": "#C8D4E3"
             },
             "line": {
              "color": "white"
             }
            },
            "type": "table"
           }
          ]
         },
         "layout": {
          "annotationdefaults": {
           "arrowcolor": "#2a3f5f",
           "arrowhead": 0,
           "arrowwidth": 1
          },
          "autotypenumbers": "strict",
          "coloraxis": {
           "colorbar": {
            "outlinewidth": 0,
            "ticks": ""
           }
          },
          "colorscale": {
           "diverging": [
            [
             0,
             "#8e0152"
            ],
            [
             0.1,
             "#c51b7d"
            ],
            [
             0.2,
             "#de77ae"
            ],
            [
             0.3,
             "#f1b6da"
            ],
            [
             0.4,
             "#fde0ef"
            ],
            [
             0.5,
             "#f7f7f7"
            ],
            [
             0.6,
             "#e6f5d0"
            ],
            [
             0.7,
             "#b8e186"
            ],
            [
             0.8,
             "#7fbc41"
            ],
            [
             0.9,
             "#4d9221"
            ],
            [
             1,
             "#276419"
            ]
           ],
           "sequential": [
            [
             0,
             "#0d0887"
            ],
            [
             0.1111111111111111,
             "#46039f"
            ],
            [
             0.2222222222222222,
             "#7201a8"
            ],
            [
             0.3333333333333333,
             "#9c179e"
            ],
            [
             0.4444444444444444,
             "#bd3786"
            ],
            [
             0.5555555555555556,
             "#d8576b"
            ],
            [
             0.6666666666666666,
             "#ed7953"
            ],
            [
             0.7777777777777778,
             "#fb9f3a"
            ],
            [
             0.8888888888888888,
             "#fdca26"
            ],
            [
             1,
             "#f0f921"
            ]
           ],
           "sequentialminus": [
            [
             0,
             "#0d0887"
            ],
            [
             0.1111111111111111,
             "#46039f"
            ],
            [
             0.2222222222222222,
             "#7201a8"
            ],
            [
             0.3333333333333333,
             "#9c179e"
            ],
            [
             0.4444444444444444,
             "#bd3786"
            ],
            [
             0.5555555555555556,
             "#d8576b"
            ],
            [
             0.6666666666666666,
             "#ed7953"
            ],
            [
             0.7777777777777778,
             "#fb9f3a"
            ],
            [
             0.8888888888888888,
             "#fdca26"
            ],
            [
             1,
             "#f0f921"
            ]
           ]
          },
          "colorway": [
           "#636efa",
           "#EF553B",
           "#00cc96",
           "#ab63fa",
           "#FFA15A",
           "#19d3f3",
           "#FF6692",
           "#B6E880",
           "#FF97FF",
           "#FECB52"
          ],
          "font": {
           "color": "#2a3f5f"
          },
          "geo": {
           "bgcolor": "white",
           "lakecolor": "white",
           "landcolor": "#E5ECF6",
           "showlakes": true,
           "showland": true,
           "subunitcolor": "white"
          },
          "hoverlabel": {
           "align": "left"
          },
          "hovermode": "closest",
          "mapbox": {
           "style": "light"
          },
          "paper_bgcolor": "white",
          "plot_bgcolor": "#E5ECF6",
          "polar": {
           "angularaxis": {
            "gridcolor": "white",
            "linecolor": "white",
            "ticks": ""
           },
           "bgcolor": "#E5ECF6",
           "radialaxis": {
            "gridcolor": "white",
            "linecolor": "white",
            "ticks": ""
           }
          },
          "scene": {
           "xaxis": {
            "backgroundcolor": "#E5ECF6",
            "gridcolor": "white",
            "gridwidth": 2,
            "linecolor": "white",
            "showbackground": true,
            "ticks": "",
            "zerolinecolor": "white"
           },
           "yaxis": {
            "backgroundcolor": "#E5ECF6",
            "gridcolor": "white",
            "gridwidth": 2,
            "linecolor": "white",
            "showbackground": true,
            "ticks": "",
            "zerolinecolor": "white"
           },
           "zaxis": {
            "backgroundcolor": "#E5ECF6",
            "gridcolor": "white",
            "gridwidth": 2,
            "linecolor": "white",
            "showbackground": true,
            "ticks": "",
            "zerolinecolor": "white"
           }
          },
          "shapedefaults": {
           "line": {
            "color": "#2a3f5f"
           }
          },
          "ternary": {
           "aaxis": {
            "gridcolor": "white",
            "linecolor": "white",
            "ticks": ""
           },
           "baxis": {
            "gridcolor": "white",
            "linecolor": "white",
            "ticks": ""
           },
           "bgcolor": "#E5ECF6",
           "caxis": {
            "gridcolor": "white",
            "linecolor": "white",
            "ticks": ""
           }
          },
          "title": {
           "x": 0.05
          },
          "xaxis": {
           "automargin": true,
           "gridcolor": "white",
           "linecolor": "white",
           "ticks": "",
           "title": {
            "standoff": 15
           },
           "zerolinecolor": "white",
           "zerolinewidth": 2
          },
          "yaxis": {
           "automargin": true,
           "gridcolor": "white",
           "linecolor": "white",
           "ticks": "",
           "title": {
            "standoff": 15
           },
           "zerolinecolor": "white",
           "zerolinewidth": 2
          }
         }
        },
        "title": {
         "font": {
          "size": 16
         },
         "text": "Dialogue graph"
        },
        "xaxis": {
         "showgrid": false,
         "showticklabels": false,
         "zeroline": false
        },
        "yaxis": {
         "showgrid": false,
         "showticklabels": false,
         "zeroline": false
        }
       }
      },
      "text/html": [
       "<div>                            <div id=\"317896bb-eadb-4c8a-9556-fb1b7ebe497d\" class=\"plotly-graph-div\" style=\"height:525px; width:100%;\"></div>            <script type=\"text/javascript\">                require([\"plotly\"], function(Plotly) {                    window.PLOTLYENV=window.PLOTLYENV || {};                                    if (document.getElementById(\"317896bb-eadb-4c8a-9556-fb1b7ebe497d\")) {                    Plotly.newPlot(                        \"317896bb-eadb-4c8a-9556-fb1b7ebe497d\",                        [{\"hoverinfo\":\"text\",\"line\":{\"color\":\"red\",\"width\":0.0},\"mode\":\"lines\",\"text\":[\"0.0\"],\"x\":[0,0.1,null],\"y\":[1,1,null],\"type\":\"scatter\",\"marker\":{\"showscale\":false}},{\"hoverinfo\":\"text\",\"line\":{\"color\":\"red\",\"width\":0.0},\"mode\":\"lines\",\"text\":[\"0.0\"],\"x\":[0,0.2,null],\"y\":[1,1,null],\"type\":\"scatter\",\"marker\":{\"showscale\":false}},{\"hoverinfo\":\"text\",\"line\":{\"color\":\"red\",\"width\":0.0},\"mode\":\"lines\",\"text\":[\"0.0\"],\"x\":[0,0.30000000000000004,null],\"y\":[1,1,null],\"type\":\"scatter\",\"marker\":{\"showscale\":false}},{\"hoverinfo\":\"text\",\"line\":{\"color\":\"red\",\"width\":0.0},\"mode\":\"lines\",\"text\":[\"0.0\"],\"x\":[0,0.4,null],\"y\":[1,1,null],\"type\":\"scatter\",\"marker\":{\"showscale\":false}},{\"hoverinfo\":\"text\",\"line\":{\"color\":\"red\",\"width\":0.8028362305580969},\"mode\":\"lines\",\"text\":[\"0.40141811527904847\"],\"x\":[0,0,null],\"y\":[1,2,null],\"type\":\"scatter\",\"marker\":{\"showscale\":false}},{\"hoverinfo\":\"text\",\"line\":{\"color\":\"red\",\"width\":0.23627630375114364},\"mode\":\"lines\",\"text\":[\"0.11813815187557182\"],\"x\":[0,0.1,null],\"y\":[1,2,null],\"type\":\"scatter\",\"marker\":{\"showscale\":false}},{\"hoverinfo\":\"text\",\"line\":{\"color\":\"red\",\"width\":0.021614821591948764},\"mode\":\"lines\",\"text\":[\"0.010807410795974382\"],\"x\":[0,0.2,null],\"y\":[1,2,null],\"type\":\"scatter\",\"marker\":{\"showscale\":false}},{\"hoverinfo\":\"text\",\"line\":{\"color\":\"red\",\"width\":0.22838517840805123},\"mode\":\"lines\",\"text\":[\"0.11419258920402561\"],\"x\":[0,0.30000000000000004,null],\"y\":[1,2,null],\"type\":\"scatter\",\"marker\":{\"showscale\":false}},{\"hoverinfo\":\"text\",\"line\":{\"color\":\"red\",\"width\":0.7108874656907593},\"mode\":\"lines\",\"text\":[\"0.35544373284537967\"],\"x\":[0,0.4,null],\"y\":[1,2,null],\"type\":\"scatter\",\"marker\":{\"showscale\":false}},{\"hoverinfo\":\"text\",\"line\":{\"color\":\"red\",\"width\":0.0},\"mode\":\"lines\",\"text\":[\"0.0\"],\"x\":[0,0.18333333333333335,null],\"y\":[1,0,null],\"type\":\"scatter\",\"marker\":{\"showscale\":false}},{\"hoverinfo\":\"text\",\"line\":{\"color\":\"red\",\"width\":0.0},\"mode\":\"lines\",\"text\":[\"0.0\"],\"x\":[0.1,0,null],\"y\":[1,1,null],\"type\":\"scatter\",\"marker\":{\"showscale\":false}},{\"hoverinfo\":\"text\",\"line\":{\"color\":\"red\",\"width\":0.0},\"mode\":\"lines\",\"text\":[\"0.0\"],\"x\":[0.1,0.2,null],\"y\":[1,1,null],\"type\":\"scatter\",\"marker\":{\"showscale\":false}},{\"hoverinfo\":\"text\",\"line\":{\"color\":\"red\",\"width\":0.0},\"mode\":\"lines\",\"text\":[\"0.0\"],\"x\":[0.1,0.30000000000000004,null],\"y\":[1,1,null],\"type\":\"scatter\",\"marker\":{\"showscale\":false}},{\"hoverinfo\":\"text\",\"line\":{\"color\":\"red\",\"width\":0.0},\"mode\":\"lines\",\"text\":[\"0.0\"],\"x\":[0.1,0.4,null],\"y\":[1,1,null],\"type\":\"scatter\",\"marker\":{\"showscale\":false}},{\"hoverinfo\":\"text\",\"line\":{\"color\":\"red\",\"width\":0.013462742642454603},\"mode\":\"lines\",\"text\":[\"0.006731371321227302\"],\"x\":[0.1,0,null],\"y\":[1,2,null],\"type\":\"scatter\",\"marker\":{\"showscale\":false}},{\"hoverinfo\":\"text\",\"line\":{\"color\":\"red\",\"width\":0.017219787100814028},\"mode\":\"lines\",\"text\":[\"0.008609893550407014\"],\"x\":[0.1,0.1,null],\"y\":[1,2,null],\"type\":\"scatter\",\"marker\":{\"showscale\":false}},{\"hoverinfo\":\"text\",\"line\":{\"color\":\"red\",\"width\":1.7777082028804008},\"mode\":\"lines\",\"text\":[\"0.8888541014402004\"],\"x\":[0.1,0.2,null],\"y\":[1,2,null],\"type\":\"scatter\",\"marker\":{\"showscale\":false}},{\"hoverinfo\":\"text\",\"line\":{\"color\":\"red\",\"width\":0.14777708202880402},\"mode\":\"lines\",\"text\":[\"0.07388854101440201\"],\"x\":[0.1,0.30000000000000004,null],\"y\":[1,2,null],\"type\":\"scatter\",\"marker\":{\"showscale\":false}},{\"hoverinfo\":\"text\",\"line\":{\"color\":\"red\",\"width\":0.043832185347526614},\"mode\":\"lines\",\"text\":[\"0.021916092673763307\"],\"x\":[0.1,0.4,null],\"y\":[1,2,null],\"type\":\"scatter\",\"marker\":{\"showscale\":false}},{\"hoverinfo\":\"text\",\"line\":{\"color\":\"red\",\"width\":0.0},\"mode\":\"lines\",\"text\":[\"0.0\"],\"x\":[0.1,0.18333333333333335,null],\"y\":[1,0,null],\"type\":\"scatter\",\"marker\":{\"showscale\":false}},{\"hoverinfo\":\"text\",\"line\":{\"color\":\"red\",\"width\":0.0},\"mode\":\"lines\",\"text\":[\"0.0\"],\"x\":[0.2,0,null],\"y\":[1,1,null],\"type\":\"scatter\",\"marker\":{\"showscale\":false}},{\"hoverinfo\":\"text\",\"line\":{\"color\":\"red\",\"width\":0.0},\"mode\":\"lines\",\"text\":[\"0.0\"],\"x\":[0.2,0.1,null],\"y\":[1,1,null],\"type\":\"scatter\",\"marker\":{\"showscale\":false}},{\"hoverinfo\":\"text\",\"line\":{\"color\":\"red\",\"width\":0.0},\"mode\":\"lines\",\"text\":[\"0.0\"],\"x\":[0.2,0.30000000000000004,null],\"y\":[1,1,null],\"type\":\"scatter\",\"marker\":{\"showscale\":false}},{\"hoverinfo\":\"text\",\"line\":{\"color\":\"red\",\"width\":0.0},\"mode\":\"lines\",\"text\":[\"0.0\"],\"x\":[0.2,0.4,null],\"y\":[1,1,null],\"type\":\"scatter\",\"marker\":{\"showscale\":false}},{\"hoverinfo\":\"text\",\"line\":{\"color\":\"red\",\"width\":0.012108631724615118},\"mode\":\"lines\",\"text\":[\"0.006054315862307559\"],\"x\":[0.2,0,null],\"y\":[1,2,null],\"type\":\"scatter\",\"marker\":{\"showscale\":false}},{\"hoverinfo\":\"text\",\"line\":{\"color\":\"red\",\"width\":0.9814910915066597},\"mode\":\"lines\",\"text\":[\"0.49074554575332985\"],\"x\":[0.2,0.1,null],\"y\":[1,2,null],\"type\":\"scatter\",\"marker\":{\"showscale\":false}},{\"hoverinfo\":\"text\",\"line\":{\"color\":\"red\",\"width\":0.01729804532087874},\"mode\":\"lines\",\"text\":[\"0.00864902266043937\"],\"x\":[0.2,0.2,null],\"y\":[1,2,null],\"type\":\"scatter\",\"marker\":{\"showscale\":false}},{\"hoverinfo\":\"text\",\"line\":{\"color\":\"red\",\"width\":0.48849679986161565},\"mode\":\"lines\",\"text\":[\"0.24424839993080782\"],\"x\":[0.2,0.30000000000000004,null],\"y\":[1,2,null],\"type\":\"scatter\",\"marker\":{\"showscale\":false}},{\"hoverinfo\":\"text\",\"line\":{\"color\":\"red\",\"width\":0.5006054315862307},\"mode\":\"lines\",\"text\":[\"0.25030271579311536\"],\"x\":[0.2,0.4,null],\"y\":[1,2,null],\"type\":\"scatter\",\"marker\":{\"showscale\":false}},{\"hoverinfo\":\"text\",\"line\":{\"color\":\"red\",\"width\":0.0},\"mode\":\"lines\",\"text\":[\"0.0\"],\"x\":[0.2,0.18333333333333335,null],\"y\":[1,0,null],\"type\":\"scatter\",\"marker\":{\"showscale\":false}},{\"hoverinfo\":\"text\",\"line\":{\"color\":\"red\",\"width\":0.0},\"mode\":\"lines\",\"text\":[\"0.0\"],\"x\":[0.30000000000000004,0,null],\"y\":[1,1,null],\"type\":\"scatter\",\"marker\":{\"showscale\":false}},{\"hoverinfo\":\"text\",\"line\":{\"color\":\"red\",\"width\":0.0},\"mode\":\"lines\",\"text\":[\"0.0\"],\"x\":[0.30000000000000004,0.1,null],\"y\":[1,1,null],\"type\":\"scatter\",\"marker\":{\"showscale\":false}},{\"hoverinfo\":\"text\",\"line\":{\"color\":\"red\",\"width\":0.0},\"mode\":\"lines\",\"text\":[\"0.0\"],\"x\":[0.30000000000000004,0.2,null],\"y\":[1,1,null],\"type\":\"scatter\",\"marker\":{\"showscale\":false}},{\"hoverinfo\":\"text\",\"line\":{\"color\":\"red\",\"width\":0.0},\"mode\":\"lines\",\"text\":[\"0.0\"],\"x\":[0.30000000000000004,0.4,null],\"y\":[1,1,null],\"type\":\"scatter\",\"marker\":{\"showscale\":false}},{\"hoverinfo\":\"text\",\"line\":{\"color\":\"red\",\"width\":0.19452207937395194},\"mode\":\"lines\",\"text\":[\"0.09726103968697597\"],\"x\":[0.30000000000000004,0,null],\"y\":[1,2,null],\"type\":\"scatter\",\"marker\":{\"showscale\":false}},{\"hoverinfo\":\"text\",\"line\":{\"color\":\"red\",\"width\":0.06148686416992733},\"mode\":\"lines\",\"text\":[\"0.030743432084963666\"],\"x\":[0.30000000000000004,0.1,null],\"y\":[1,2,null],\"type\":\"scatter\",\"marker\":{\"showscale\":false}},{\"hoverinfo\":\"text\",\"line\":{\"color\":\"red\",\"width\":0.02850754611514813},\"mode\":\"lines\",\"text\":[\"0.014253773057574064\"],\"x\":[0.30000000000000004,0.2,null],\"y\":[1,2,null],\"type\":\"scatter\",\"marker\":{\"showscale\":false}},{\"hoverinfo\":\"text\",\"line\":{\"color\":\"red\",\"width\":1.1825041922861934},\"mode\":\"lines\",\"text\":[\"0.5912520961430967\"],\"x\":[0.30000000000000004,0.30000000000000004,null],\"y\":[1,2,null],\"type\":\"scatter\",\"marker\":{\"showscale\":false}},{\"hoverinfo\":\"text\",\"line\":{\"color\":\"red\",\"width\":0.5329793180547792},\"mode\":\"lines\",\"text\":[\"0.2664896590273896\"],\"x\":[0.30000000000000004,0.4,null],\"y\":[1,2,null],\"type\":\"scatter\",\"marker\":{\"showscale\":false}},{\"hoverinfo\":\"text\",\"line\":{\"color\":\"red\",\"width\":0.0},\"mode\":\"lines\",\"text\":[\"0.0\"],\"x\":[0.30000000000000004,0.18333333333333335,null],\"y\":[1,0,null],\"type\":\"scatter\",\"marker\":{\"showscale\":false}},{\"hoverinfo\":\"text\",\"line\":{\"color\":\"red\",\"width\":0.0},\"mode\":\"lines\",\"text\":[\"0.0\"],\"x\":[0.4,0,null],\"y\":[1,1,null],\"type\":\"scatter\",\"marker\":{\"showscale\":false}},{\"hoverinfo\":\"text\",\"line\":{\"color\":\"red\",\"width\":0.0},\"mode\":\"lines\",\"text\":[\"0.0\"],\"x\":[0.4,0.1,null],\"y\":[1,1,null],\"type\":\"scatter\",\"marker\":{\"showscale\":false}},{\"hoverinfo\":\"text\",\"line\":{\"color\":\"red\",\"width\":0.0},\"mode\":\"lines\",\"text\":[\"0.0\"],\"x\":[0.4,0.2,null],\"y\":[1,1,null],\"type\":\"scatter\",\"marker\":{\"showscale\":false}},{\"hoverinfo\":\"text\",\"line\":{\"color\":\"red\",\"width\":0.0},\"mode\":\"lines\",\"text\":[\"0.0\"],\"x\":[0.4,0.30000000000000004,null],\"y\":[1,1,null],\"type\":\"scatter\",\"marker\":{\"showscale\":false}},{\"hoverinfo\":\"text\",\"line\":{\"color\":\"red\",\"width\":0.0955607060082011},\"mode\":\"lines\",\"text\":[\"0.04778035300410055\"],\"x\":[0.4,0,null],\"y\":[1,2,null],\"type\":\"scatter\",\"marker\":{\"showscale\":false}},{\"hoverinfo\":\"text\",\"line\":{\"color\":\"red\",\"width\":0.5822784810126582},\"mode\":\"lines\",\"text\":[\"0.2911392405063291\"],\"x\":[0.4,0.1,null],\"y\":[1,2,null],\"type\":\"scatter\",\"marker\":{\"showscale\":false}},{\"hoverinfo\":\"text\",\"line\":{\"color\":\"red\",\"width\":0.01390622214298449},\"mode\":\"lines\",\"text\":[\"0.006953111071492245\"],\"x\":[0.4,0.2,null],\"y\":[1,2,null],\"type\":\"scatter\",\"marker\":{\"showscale\":false}},{\"hoverinfo\":\"text\",\"line\":{\"color\":\"red\",\"width\":1.1802460331609912},\"mode\":\"lines\",\"text\":[\"0.5901230165804956\"],\"x\":[0.4,0.30000000000000004,null],\"y\":[1,2,null],\"type\":\"scatter\",\"marker\":{\"showscale\":false}},{\"hoverinfo\":\"text\",\"line\":{\"color\":\"red\",\"width\":0.12800855767516492},\"mode\":\"lines\",\"text\":[\"0.06400427883758246\"],\"x\":[0.4,0.4,null],\"y\":[1,2,null],\"type\":\"scatter\",\"marker\":{\"showscale\":false}},{\"hoverinfo\":\"text\",\"line\":{\"color\":\"red\",\"width\":0.0},\"mode\":\"lines\",\"text\":[\"0.0\"],\"x\":[0.4,0.18333333333333335,null],\"y\":[1,0,null],\"type\":\"scatter\",\"marker\":{\"showscale\":false}},{\"hoverinfo\":\"text\",\"line\":{\"color\":\"blue\",\"width\":1.1984971822166561},\"mode\":\"lines\",\"text\":[\"0.5992485911083281\"],\"x\":[0,0,null],\"y\":[2,1,null],\"type\":\"scatter\",\"marker\":{\"showscale\":false}},{\"hoverinfo\":\"text\",\"line\":{\"color\":\"blue\",\"width\":0.06537257357545398},\"mode\":\"lines\",\"text\":[\"0.03268628678772699\"],\"x\":[0,0.1,null],\"y\":[2,1,null],\"type\":\"scatter\",\"marker\":{\"showscale\":false}},{\"hoverinfo\":\"text\",\"line\":{\"color\":\"blue\",\"width\":0.03155917345021916},\"mode\":\"lines\",\"text\":[\"0.01577958672510958\"],\"x\":[0,0.2,null],\"y\":[2,1,null],\"type\":\"scatter\",\"marker\":{\"showscale\":false}},{\"hoverinfo\":\"text\",\"line\":{\"color\":\"blue\",\"width\":0.5370068879148403},\"mode\":\"lines\",\"text\":[\"0.26850344395742015\"],\"x\":[0,0.30000000000000004,null],\"y\":[2,1,null],\"type\":\"scatter\",\"marker\":{\"showscale\":false}},{\"hoverinfo\":\"text\",\"line\":{\"color\":\"blue\",\"width\":0.1675641828428303},\"mode\":\"lines\",\"text\":[\"0.08378209142141516\"],\"x\":[0,0.4,null],\"y\":[2,1,null],\"type\":\"scatter\",\"marker\":{\"showscale\":false}},{\"hoverinfo\":\"text\",\"line\":{\"color\":\"blue\",\"width\":0.0},\"mode\":\"lines\",\"text\":[\"0.0\"],\"x\":[0,0.1,null],\"y\":[2,2,null],\"type\":\"scatter\",\"marker\":{\"showscale\":false}},{\"hoverinfo\":\"text\",\"line\":{\"color\":\"blue\",\"width\":0.0},\"mode\":\"lines\",\"text\":[\"0.0\"],\"x\":[0,0.2,null],\"y\":[2,2,null],\"type\":\"scatter\",\"marker\":{\"showscale\":false}},{\"hoverinfo\":\"text\",\"line\":{\"color\":\"blue\",\"width\":0.0},\"mode\":\"lines\",\"text\":[\"0.0\"],\"x\":[0,0.30000000000000004,null],\"y\":[2,2,null],\"type\":\"scatter\",\"marker\":{\"showscale\":false}},{\"hoverinfo\":\"text\",\"line\":{\"color\":\"blue\",\"width\":0.0},\"mode\":\"lines\",\"text\":[\"0.0\"],\"x\":[0,0.4,null],\"y\":[2,2,null],\"type\":\"scatter\",\"marker\":{\"showscale\":false}},{\"hoverinfo\":\"text\",\"line\":{\"color\":\"blue\",\"width\":0.0},\"mode\":\"lines\",\"text\":[\"0.0\"],\"x\":[0,0.18333333333333335,null],\"y\":[2,0,null],\"type\":\"scatter\",\"marker\":{\"showscale\":false}},{\"hoverinfo\":\"text\",\"line\":{\"color\":\"blue\",\"width\":0.4405573673287874},\"mode\":\"lines\",\"text\":[\"0.2202786836643937\"],\"x\":[0.1,0,null],\"y\":[2,1,null],\"type\":\"scatter\",\"marker\":{\"showscale\":false}},{\"hoverinfo\":\"text\",\"line\":{\"color\":\"blue\",\"width\":0.09279573080343907},\"mode\":\"lines\",\"text\":[\"0.046397865401719536\"],\"x\":[0.1,0.1,null],\"y\":[2,1,null],\"type\":\"scatter\",\"marker\":{\"showscale\":false}},{\"hoverinfo\":\"text\",\"line\":{\"color\":\"blue\",\"width\":0.7829825081529795},\"mode\":\"lines\",\"text\":[\"0.39149125407648977\"],\"x\":[0.1,0.2,null],\"y\":[2,1,null],\"type\":\"scatter\",\"marker\":{\"showscale\":false}},{\"hoverinfo\":\"text\",\"line\":{\"color\":\"blue\",\"width\":0.16632078268603617},\"mode\":\"lines\",\"text\":[\"0.08316039134301809\"],\"x\":[0.1,0.30000000000000004,null],\"y\":[2,1,null],\"type\":\"scatter\",\"marker\":{\"showscale\":false}},{\"hoverinfo\":\"text\",\"line\":{\"color\":\"blue\",\"width\":0.5173436110287578},\"mode\":\"lines\",\"text\":[\"0.2586718055143789\"],\"x\":[0.1,0.4,null],\"y\":[2,1,null],\"type\":\"scatter\",\"marker\":{\"showscale\":false}},{\"hoverinfo\":\"text\",\"line\":{\"color\":\"blue\",\"width\":0.0},\"mode\":\"lines\",\"text\":[\"0.0\"],\"x\":[0.1,0,null],\"y\":[2,2,null],\"type\":\"scatter\",\"marker\":{\"showscale\":false}},{\"hoverinfo\":\"text\",\"line\":{\"color\":\"blue\",\"width\":0.0},\"mode\":\"lines\",\"text\":[\"0.0\"],\"x\":[0.1,0.2,null],\"y\":[2,2,null],\"type\":\"scatter\",\"marker\":{\"showscale\":false}},{\"hoverinfo\":\"text\",\"line\":{\"color\":\"blue\",\"width\":0.0},\"mode\":\"lines\",\"text\":[\"0.0\"],\"x\":[0.1,0.30000000000000004,null],\"y\":[2,2,null],\"type\":\"scatter\",\"marker\":{\"showscale\":false}},{\"hoverinfo\":\"text\",\"line\":{\"color\":\"blue\",\"width\":0.0},\"mode\":\"lines\",\"text\":[\"0.0\"],\"x\":[0.1,0.4,null],\"y\":[2,2,null],\"type\":\"scatter\",\"marker\":{\"showscale\":false}},{\"hoverinfo\":\"text\",\"line\":{\"color\":\"blue\",\"width\":0.0},\"mode\":\"lines\",\"text\":[\"0.0\"],\"x\":[0.1,0.18333333333333335,null],\"y\":[2,0,null],\"type\":\"scatter\",\"marker\":{\"showscale\":false}},{\"hoverinfo\":\"text\",\"line\":{\"color\":\"blue\",\"width\":0.3198992443324937},\"mode\":\"lines\",\"text\":[\"0.15994962216624686\"],\"x\":[0.2,0,null],\"y\":[2,1,null],\"type\":\"scatter\",\"marker\":{\"showscale\":false}},{\"hoverinfo\":\"text\",\"line\":{\"color\":\"blue\",\"width\":1.3778337531486147},\"mode\":\"lines\",\"text\":[\"0.6889168765743073\"],\"x\":[0.2,0.1,null],\"y\":[2,1,null],\"type\":\"scatter\",\"marker\":{\"showscale\":false}},{\"hoverinfo\":\"text\",\"line\":{\"color\":\"blue\",\"width\":0.13602015113350127},\"mode\":\"lines\",\"text\":[\"0.06801007556675064\"],\"x\":[0.2,0.2,null],\"y\":[2,1,null],\"type\":\"scatter\",\"marker\":{\"showscale\":false}},{\"hoverinfo\":\"text\",\"line\":{\"color\":\"blue\",\"width\":0.06801007556675064},\"mode\":\"lines\",\"text\":[\"0.03400503778337532\"],\"x\":[0.2,0.30000000000000004,null],\"y\":[2,1,null],\"type\":\"scatter\",\"marker\":{\"showscale\":false}},{\"hoverinfo\":\"text\",\"line\":{\"color\":\"blue\",\"width\":0.0982367758186398},\"mode\":\"lines\",\"text\":[\"0.0491183879093199\"],\"x\":[0.2,0.4,null],\"y\":[2,1,null],\"type\":\"scatter\",\"marker\":{\"showscale\":false}},{\"hoverinfo\":\"text\",\"line\":{\"color\":\"blue\",\"width\":0.0},\"mode\":\"lines\",\"text\":[\"0.0\"],\"x\":[0.2,0,null],\"y\":[2,2,null],\"type\":\"scatter\",\"marker\":{\"showscale\":false}},{\"hoverinfo\":\"text\",\"line\":{\"color\":\"blue\",\"width\":0.0},\"mode\":\"lines\",\"text\":[\"0.0\"],\"x\":[0.2,0.1,null],\"y\":[2,2,null],\"type\":\"scatter\",\"marker\":{\"showscale\":false}},{\"hoverinfo\":\"text\",\"line\":{\"color\":\"blue\",\"width\":0.0},\"mode\":\"lines\",\"text\":[\"0.0\"],\"x\":[0.2,0.30000000000000004,null],\"y\":[2,2,null],\"type\":\"scatter\",\"marker\":{\"showscale\":false}},{\"hoverinfo\":\"text\",\"line\":{\"color\":\"blue\",\"width\":0.0},\"mode\":\"lines\",\"text\":[\"0.0\"],\"x\":[0.2,0.4,null],\"y\":[2,2,null],\"type\":\"scatter\",\"marker\":{\"showscale\":false}},{\"hoverinfo\":\"text\",\"line\":{\"color\":\"blue\",\"width\":0.0},\"mode\":\"lines\",\"text\":[\"0.0\"],\"x\":[0.2,0.18333333333333335,null],\"y\":[2,0,null],\"type\":\"scatter\",\"marker\":{\"showscale\":false}},{\"hoverinfo\":\"text\",\"line\":{\"color\":\"blue\",\"width\":0.5264100268576545},\"mode\":\"lines\",\"text\":[\"0.26320501342882724\"],\"x\":[0.30000000000000004,0,null],\"y\":[2,1,null],\"type\":\"scatter\",\"marker\":{\"showscale\":false}},{\"hoverinfo\":\"text\",\"line\":{\"color\":\"blue\",\"width\":0.8687555953446733},\"mode\":\"lines\",\"text\":[\"0.43437779767233664\"],\"x\":[0.30000000000000004,0.1,null],\"y\":[2,1,null],\"type\":\"scatter\",\"marker\":{\"showscale\":false}},{\"hoverinfo\":\"text\",\"line\":{\"color\":\"blue\",\"width\":0.18907788719785137},\"mode\":\"lines\",\"text\":[\"0.09453894359892569\"],\"x\":[0.30000000000000004,0.2,null],\"y\":[2,1,null],\"type\":\"scatter\",\"marker\":{\"showscale\":false}},{\"hoverinfo\":\"text\",\"line\":{\"color\":\"blue\",\"width\":0.12569382273948077},\"mode\":\"lines\",\"text\":[\"0.06284691136974038\"],\"x\":[0.30000000000000004,0.30000000000000004,null],\"y\":[2,1,null],\"type\":\"scatter\",\"marker\":{\"showscale\":false}},{\"hoverinfo\":\"text\",\"line\":{\"color\":\"blue\",\"width\":0.2900626678603402},\"mode\":\"lines\",\"text\":[\"0.1450313339301701\"],\"x\":[0.30000000000000004,0.4,null],\"y\":[2,1,null],\"type\":\"scatter\",\"marker\":{\"showscale\":false}},{\"hoverinfo\":\"text\",\"line\":{\"color\":\"blue\",\"width\":0.0},\"mode\":\"lines\",\"text\":[\"0.0\"],\"x\":[0.30000000000000004,0,null],\"y\":[2,2,null],\"type\":\"scatter\",\"marker\":{\"showscale\":false}},{\"hoverinfo\":\"text\",\"line\":{\"color\":\"blue\",\"width\":0.0},\"mode\":\"lines\",\"text\":[\"0.0\"],\"x\":[0.30000000000000004,0.1,null],\"y\":[2,2,null],\"type\":\"scatter\",\"marker\":{\"showscale\":false}},{\"hoverinfo\":\"text\",\"line\":{\"color\":\"blue\",\"width\":0.0},\"mode\":\"lines\",\"text\":[\"0.0\"],\"x\":[0.30000000000000004,0.2,null],\"y\":[2,2,null],\"type\":\"scatter\",\"marker\":{\"showscale\":false}},{\"hoverinfo\":\"text\",\"line\":{\"color\":\"blue\",\"width\":0.0},\"mode\":\"lines\",\"text\":[\"0.0\"],\"x\":[0.30000000000000004,0.4,null],\"y\":[2,2,null],\"type\":\"scatter\",\"marker\":{\"showscale\":false}},{\"hoverinfo\":\"text\",\"line\":{\"color\":\"blue\",\"width\":0.0},\"mode\":\"lines\",\"text\":[\"0.0\"],\"x\":[0.30000000000000004,0.18333333333333335,null],\"y\":[2,0,null],\"type\":\"scatter\",\"marker\":{\"showscale\":false}},{\"hoverinfo\":\"text\",\"line\":{\"color\":\"blue\",\"width\":0.7303121852970795},\"mode\":\"lines\",\"text\":[\"0.36515609264853977\"],\"x\":[0.4,0,null],\"y\":[2,1,null],\"type\":\"scatter\",\"marker\":{\"showscale\":false}},{\"hoverinfo\":\"text\",\"line\":{\"color\":\"blue\",\"width\":0.08358509566968782},\"mode\":\"lines\",\"text\":[\"0.04179254783484391\"],\"x\":[0.4,0.1,null],\"y\":[2,1,null],\"type\":\"scatter\",\"marker\":{\"showscale\":false}},{\"hoverinfo\":\"text\",\"line\":{\"color\":\"blue\",\"width\":0.20040281973816718},\"mode\":\"lines\",\"text\":[\"0.10020140986908359\"],\"x\":[0.4,0.2,null],\"y\":[2,1,null],\"type\":\"scatter\",\"marker\":{\"showscale\":false}},{\"hoverinfo\":\"text\",\"line\":{\"color\":\"blue\",\"width\":0.7464249748237664},\"mode\":\"lines\",\"text\":[\"0.3732124874118832\"],\"x\":[0.4,0.30000000000000004,null],\"y\":[2,1,null],\"type\":\"scatter\",\"marker\":{\"showscale\":false}},{\"hoverinfo\":\"text\",\"line\":{\"color\":\"blue\",\"width\":0.23927492447129908},\"mode\":\"lines\",\"text\":[\"0.11963746223564954\"],\"x\":[0.4,0.4,null],\"y\":[2,1,null],\"type\":\"scatter\",\"marker\":{\"showscale\":false}},{\"hoverinfo\":\"text\",\"line\":{\"color\":\"blue\",\"width\":0.0},\"mode\":\"lines\",\"text\":[\"0.0\"],\"x\":[0.4,0,null],\"y\":[2,2,null],\"type\":\"scatter\",\"marker\":{\"showscale\":false}},{\"hoverinfo\":\"text\",\"line\":{\"color\":\"blue\",\"width\":0.0},\"mode\":\"lines\",\"text\":[\"0.0\"],\"x\":[0.4,0.1,null],\"y\":[2,2,null],\"type\":\"scatter\",\"marker\":{\"showscale\":false}},{\"hoverinfo\":\"text\",\"line\":{\"color\":\"blue\",\"width\":0.0},\"mode\":\"lines\",\"text\":[\"0.0\"],\"x\":[0.4,0.2,null],\"y\":[2,2,null],\"type\":\"scatter\",\"marker\":{\"showscale\":false}},{\"hoverinfo\":\"text\",\"line\":{\"color\":\"blue\",\"width\":0.0},\"mode\":\"lines\",\"text\":[\"0.0\"],\"x\":[0.4,0.30000000000000004,null],\"y\":[2,2,null],\"type\":\"scatter\",\"marker\":{\"showscale\":false}},{\"hoverinfo\":\"text\",\"line\":{\"color\":\"blue\",\"width\":0.0},\"mode\":\"lines\",\"text\":[\"0.0\"],\"x\":[0.4,0.18333333333333335,null],\"y\":[2,0,null],\"type\":\"scatter\",\"marker\":{\"showscale\":false}},{\"hoverinfo\":\"text\",\"line\":{\"color\":\"#888\",\"width\":1.5608073141279972},\"mode\":\"lines\",\"text\":[\"0.7804036570639986\"],\"x\":[0.18333333333333335,0,null],\"y\":[0,1,null],\"type\":\"scatter\",\"marker\":{\"showscale\":false}},{\"hoverinfo\":\"text\",\"line\":{\"color\":\"#888\",\"width\":0.0},\"mode\":\"lines\",\"text\":[\"0.0\"],\"x\":[0.18333333333333335,0.1,null],\"y\":[0,1,null],\"type\":\"scatter\",\"marker\":{\"showscale\":false}},{\"hoverinfo\":\"text\",\"line\":{\"color\":\"#888\",\"width\":0.3136104881835432},\"mode\":\"lines\",\"text\":[\"0.1568052440917716\"],\"x\":[0.18333333333333335,0.2,null],\"y\":[0,1,null],\"type\":\"scatter\",\"marker\":{\"showscale\":false}},{\"hoverinfo\":\"text\",\"line\":{\"color\":\"#888\",\"width\":0.005520096601690529},\"mode\":\"lines\",\"text\":[\"0.0027600483008452647\"],\"x\":[0.18333333333333335,0.30000000000000004,null],\"y\":[0,1,null],\"type\":\"scatter\",\"marker\":{\"showscale\":false}},{\"hoverinfo\":\"text\",\"line\":{\"color\":\"#888\",\"width\":0.12006210108676901},\"mode\":\"lines\",\"text\":[\"0.060031050543384507\"],\"x\":[0.18333333333333335,0.4,null],\"y\":[0,1,null],\"type\":\"scatter\",\"marker\":{\"showscale\":false}},{\"hoverinfo\":\"text\",\"line\":{\"color\":\"#888\",\"width\":0.0},\"mode\":\"lines\",\"text\":[\"0.0\"],\"x\":[0.18333333333333335,0,null],\"y\":[0,2,null],\"type\":\"scatter\",\"marker\":{\"showscale\":false}},{\"hoverinfo\":\"text\",\"line\":{\"color\":\"#888\",\"width\":0.0},\"mode\":\"lines\",\"text\":[\"0.0\"],\"x\":[0.18333333333333335,0.1,null],\"y\":[0,2,null],\"type\":\"scatter\",\"marker\":{\"showscale\":false}},{\"hoverinfo\":\"text\",\"line\":{\"color\":\"#888\",\"width\":0.0},\"mode\":\"lines\",\"text\":[\"0.0\"],\"x\":[0.18333333333333335,0.2,null],\"y\":[0,2,null],\"type\":\"scatter\",\"marker\":{\"showscale\":false}},{\"hoverinfo\":\"text\",\"line\":{\"color\":\"#888\",\"width\":0.0},\"mode\":\"lines\",\"text\":[\"0.0\"],\"x\":[0.18333333333333335,0.30000000000000004,null],\"y\":[0,2,null],\"type\":\"scatter\",\"marker\":{\"showscale\":false}},{\"hoverinfo\":\"text\",\"line\":{\"color\":\"#888\",\"width\":0.0},\"mode\":\"lines\",\"text\":[\"0.0\"],\"x\":[0.18333333333333335,0.4,null],\"y\":[0,2,null],\"type\":\"scatter\",\"marker\":{\"showscale\":false}},{\"hoverinfo\":\"text\",\"marker\":{\"color\":[0,0,0,0,0,1,1,1,1,1],\"colorscale\":[[0.0,\"rgb(0,0,131)\"],[0.2,\"rgb(0,60,170)\"],[0.4,\"rgb(5,255,255)\"],[0.6,\"rgb(255,255,0)\"],[0.8,\"rgb(250,0,0)\"],[1.0,\"rgb(128,0,0)\"]],\"line\":{\"width\":2},\"reversescale\":true,\"showscale\":false,\"size\":[87.44,31.94,28.905,35.78,28.045,40.31,34.055,30.29,57.11,50.345,20]},\"mode\":\"markers\",\"text\":[\"USER (17488)<br>Yeah, I need a restaurant in the west and with expensive pricing.<br>I'm looking for an expensive restaurant in the centre if you could help me.<br>No need to book it. Thanks. But can you help me find a cheap restaurant in the south?<br>I am looking for a restaurant that is in the expensive price range and in the south part of town.\",\"USER (6388)<br>that is it thank you.<br>No that is it. Thank you!<br>Nope, that's it. Thanks!<br>No that is it. Thank you so much.\",\"USER (5781)<br>Saturday leaving Cambridge anytime after 20:00 please<br>I need the travel day to be Sunday. I'll be going to Cambridge and arrive by 13:45. I'll be leaving from Birmingham New street.<br>Yes, it should depart from Cambridge.<br>I am leaving birmingham new street and going to cambridge; I need to travel on Friday and arrive by 13:15.\",\"USER (7156)<br>6 people will be dining<br>No, I would like it for 4 people.<br>Four star please same group of people starting Thursday I need a ref number too please.<br>Just 1 person at 13:15 on thursday\",\"USER (5609)<br>Thanks, what is their phone number?<br>Can I get their phone number please?<br>I just need their address, star level and whether they have internet please.<br>Can you please recommend one and give me their postcode and phone number?\",\"SYSTEM (8062)<br>There is one option, it is The Lensfield Hotel. Do you want me to reserve any rooms for you?<br>The only other hotel that matches your requirements is the lensfield hotel located in the south. Would you like me to make a booking?<br>I recommend the Lensfield hotel on the south side. Shall I book a room?<br>The Lensfield has free parking and free internet. Did you need a room there, or perhaps their address?\",\"SYSTEM (6811)<br>What time do you need the taxi, and which is the destination site?<br>I will look a taxi up for you.<br>What time will you be needing the taxi service for?<br>You're welcome. May I help you with a taxi or restaurant booking?\",\"SYSTEM (6058)<br>Thank you for calling. Enjoy your dining experience.<br>Okay great. Enjoy your dining experience.<br>enjoy your meal!<br>You're welcome, enjoy your food.\",\"SYSTEM (11422)<br>Your booking was successful. Your reference number is FRGZWQL2 . May I help you further?<br>Booking was successful. Your reference number is 4UFN3SWC . Will that be all for today?<br>Your booking was successful. Your reference number is 3VX3AOKS .<br>Booking was successful. Reference number is : 36N9VCAD . Is there anything else I can help with?\",\"SYSTEM (10069)<br>TR3128 will leave at 20:40 and arrive by 21:08. Do you need more information or would you like to book tickets?<br>TR2514 leaves at 10:11 and arrives at 10:58. Will this one work for you?<br>Sure. The travel time for TR2514 is 47 minutes. Anything else I can help you with today?<br>TR5234 will leave at 14:16, would that work for you?\",\"START NODE\"],\"x\":[0,0.1,0.2,0.30000000000000004,0.4,0,0.1,0.2,0.30000000000000004,0.4,0.18333333333333335],\"y\":[1,1,1,1,1,2,2,2,2,2,0],\"type\":\"scatter\"}],                        {\"annotations\":[{\"showarrow\":false,\"text\":\"Target Dialogue: <br>i need a place to dine in the center thats expensive. <br> I have several options for you; do you prefer African, Asian, or British food?.<br> Any sort of food would be fine, as long as it is a bit expensive. Could I get the phone number for your recommendation?.<br> There is an Afrian place named Bedouin in the centre. How does that sound?. <br> Sounds good, could I get that phone number? Also, could you recommend me an expensive hotel?. <br> Bedouin's phone is 01223367660. As far as hotels go, I recommend the University Arms Hotel in the center of town.. <br> Yes. Can you book it for me?. <br> Sure, when would you like that reservation?. <br> i want to book it for 2 people and 2 nights starting from saturday.. <br> Your booking was successful. Your reference number is FRGZWQL2 . May I help you further?. <br> That is all I need to know. Thanks, good bye.. <br> Thank you so much for Cambridge TownInfo centre. Have a great day!.\",\"x\":0.005,\"xref\":\"paper\",\"y\":-0.001,\"yref\":\"paper\"}],\"hovermode\":\"closest\",\"margin\":{\"b\":20,\"l\":5,\"r\":5,\"t\":40},\"showlegend\":false,\"title\":{\"font\":{\"size\":16},\"text\":\"Dialogue graph\"},\"xaxis\":{\"showgrid\":false,\"showticklabels\":false,\"zeroline\":false},\"yaxis\":{\"showgrid\":false,\"showticklabels\":false,\"zeroline\":false},\"template\":{\"data\":{\"histogram2dcontour\":[{\"type\":\"histogram2dcontour\",\"colorbar\":{\"outlinewidth\":0,\"ticks\":\"\"},\"colorscale\":[[0.0,\"#0d0887\"],[0.1111111111111111,\"#46039f\"],[0.2222222222222222,\"#7201a8\"],[0.3333333333333333,\"#9c179e\"],[0.4444444444444444,\"#bd3786\"],[0.5555555555555556,\"#d8576b\"],[0.6666666666666666,\"#ed7953\"],[0.7777777777777778,\"#fb9f3a\"],[0.8888888888888888,\"#fdca26\"],[1.0,\"#f0f921\"]]}],\"choropleth\":[{\"type\":\"choropleth\",\"colorbar\":{\"outlinewidth\":0,\"ticks\":\"\"}}],\"histogram2d\":[{\"type\":\"histogram2d\",\"colorbar\":{\"outlinewidth\":0,\"ticks\":\"\"},\"colorscale\":[[0.0,\"#0d0887\"],[0.1111111111111111,\"#46039f\"],[0.2222222222222222,\"#7201a8\"],[0.3333333333333333,\"#9c179e\"],[0.4444444444444444,\"#bd3786\"],[0.5555555555555556,\"#d8576b\"],[0.6666666666666666,\"#ed7953\"],[0.7777777777777778,\"#fb9f3a\"],[0.8888888888888888,\"#fdca26\"],[1.0,\"#f0f921\"]]}],\"heatmap\":[{\"type\":\"heatmap\",\"colorbar\":{\"outlinewidth\":0,\"ticks\":\"\"},\"colorscale\":[[0.0,\"#0d0887\"],[0.1111111111111111,\"#46039f\"],[0.2222222222222222,\"#7201a8\"],[0.3333333333333333,\"#9c179e\"],[0.4444444444444444,\"#bd3786\"],[0.5555555555555556,\"#d8576b\"],[0.6666666666666666,\"#ed7953\"],[0.7777777777777778,\"#fb9f3a\"],[0.8888888888888888,\"#fdca26\"],[1.0,\"#f0f921\"]]}],\"heatmapgl\":[{\"type\":\"heatmapgl\",\"colorbar\":{\"outlinewidth\":0,\"ticks\":\"\"},\"colorscale\":[[0.0,\"#0d0887\"],[0.1111111111111111,\"#46039f\"],[0.2222222222222222,\"#7201a8\"],[0.3333333333333333,\"#9c179e\"],[0.4444444444444444,\"#bd3786\"],[0.5555555555555556,\"#d8576b\"],[0.6666666666666666,\"#ed7953\"],[0.7777777777777778,\"#fb9f3a\"],[0.8888888888888888,\"#fdca26\"],[1.0,\"#f0f921\"]]}],\"contourcarpet\":[{\"type\":\"contourcarpet\",\"colorbar\":{\"outlinewidth\":0,\"ticks\":\"\"}}],\"contour\":[{\"type\":\"contour\",\"colorbar\":{\"outlinewidth\":0,\"ticks\":\"\"},\"colorscale\":[[0.0,\"#0d0887\"],[0.1111111111111111,\"#46039f\"],[0.2222222222222222,\"#7201a8\"],[0.3333333333333333,\"#9c179e\"],[0.4444444444444444,\"#bd3786\"],[0.5555555555555556,\"#d8576b\"],[0.6666666666666666,\"#ed7953\"],[0.7777777777777778,\"#fb9f3a\"],[0.8888888888888888,\"#fdca26\"],[1.0,\"#f0f921\"]]}],\"surface\":[{\"type\":\"surface\",\"colorbar\":{\"outlinewidth\":0,\"ticks\":\"\"},\"colorscale\":[[0.0,\"#0d0887\"],[0.1111111111111111,\"#46039f\"],[0.2222222222222222,\"#7201a8\"],[0.3333333333333333,\"#9c179e\"],[0.4444444444444444,\"#bd3786\"],[0.5555555555555556,\"#d8576b\"],[0.6666666666666666,\"#ed7953\"],[0.7777777777777778,\"#fb9f3a\"],[0.8888888888888888,\"#fdca26\"],[1.0,\"#f0f921\"]]}],\"mesh3d\":[{\"type\":\"mesh3d\",\"colorbar\":{\"outlinewidth\":0,\"ticks\":\"\"}}],\"scatter\":[{\"fillpattern\":{\"fillmode\":\"overlay\",\"size\":10,\"solidity\":0.2},\"type\":\"scatter\"}],\"parcoords\":[{\"type\":\"parcoords\",\"line\":{\"colorbar\":{\"outlinewidth\":0,\"ticks\":\"\"}}}],\"scatterpolargl\":[{\"type\":\"scatterpolargl\",\"marker\":{\"colorbar\":{\"outlinewidth\":0,\"ticks\":\"\"}}}],\"bar\":[{\"error_x\":{\"color\":\"#2a3f5f\"},\"error_y\":{\"color\":\"#2a3f5f\"},\"marker\":{\"line\":{\"color\":\"#E5ECF6\",\"width\":0.5},\"pattern\":{\"fillmode\":\"overlay\",\"size\":10,\"solidity\":0.2}},\"type\":\"bar\"}],\"scattergeo\":[{\"type\":\"scattergeo\",\"marker\":{\"colorbar\":{\"outlinewidth\":0,\"ticks\":\"\"}}}],\"scatterpolar\":[{\"type\":\"scatterpolar\",\"marker\":{\"colorbar\":{\"outlinewidth\":0,\"ticks\":\"\"}}}],\"histogram\":[{\"marker\":{\"pattern\":{\"fillmode\":\"overlay\",\"size\":10,\"solidity\":0.2}},\"type\":\"histogram\"}],\"scattergl\":[{\"type\":\"scattergl\",\"marker\":{\"colorbar\":{\"outlinewidth\":0,\"ticks\":\"\"}}}],\"scatter3d\":[{\"type\":\"scatter3d\",\"line\":{\"colorbar\":{\"outlinewidth\":0,\"ticks\":\"\"}},\"marker\":{\"colorbar\":{\"outlinewidth\":0,\"ticks\":\"\"}}}],\"scattermapbox\":[{\"type\":\"scattermapbox\",\"marker\":{\"colorbar\":{\"outlinewidth\":0,\"ticks\":\"\"}}}],\"scatterternary\":[{\"type\":\"scatterternary\",\"marker\":{\"colorbar\":{\"outlinewidth\":0,\"ticks\":\"\"}}}],\"scattercarpet\":[{\"type\":\"scattercarpet\",\"marker\":{\"colorbar\":{\"outlinewidth\":0,\"ticks\":\"\"}}}],\"carpet\":[{\"aaxis\":{\"endlinecolor\":\"#2a3f5f\",\"gridcolor\":\"white\",\"linecolor\":\"white\",\"minorgridcolor\":\"white\",\"startlinecolor\":\"#2a3f5f\"},\"baxis\":{\"endlinecolor\":\"#2a3f5f\",\"gridcolor\":\"white\",\"linecolor\":\"white\",\"minorgridcolor\":\"white\",\"startlinecolor\":\"#2a3f5f\"},\"type\":\"carpet\"}],\"table\":[{\"cells\":{\"fill\":{\"color\":\"#EBF0F8\"},\"line\":{\"color\":\"white\"}},\"header\":{\"fill\":{\"color\":\"#C8D4E3\"},\"line\":{\"color\":\"white\"}},\"type\":\"table\"}],\"barpolar\":[{\"marker\":{\"line\":{\"color\":\"#E5ECF6\",\"width\":0.5},\"pattern\":{\"fillmode\":\"overlay\",\"size\":10,\"solidity\":0.2}},\"type\":\"barpolar\"}],\"pie\":[{\"automargin\":true,\"type\":\"pie\"}]},\"layout\":{\"autotypenumbers\":\"strict\",\"colorway\":[\"#636efa\",\"#EF553B\",\"#00cc96\",\"#ab63fa\",\"#FFA15A\",\"#19d3f3\",\"#FF6692\",\"#B6E880\",\"#FF97FF\",\"#FECB52\"],\"font\":{\"color\":\"#2a3f5f\"},\"hovermode\":\"closest\",\"hoverlabel\":{\"align\":\"left\"},\"paper_bgcolor\":\"white\",\"plot_bgcolor\":\"#E5ECF6\",\"polar\":{\"bgcolor\":\"#E5ECF6\",\"angularaxis\":{\"gridcolor\":\"white\",\"linecolor\":\"white\",\"ticks\":\"\"},\"radialaxis\":{\"gridcolor\":\"white\",\"linecolor\":\"white\",\"ticks\":\"\"}},\"ternary\":{\"bgcolor\":\"#E5ECF6\",\"aaxis\":{\"gridcolor\":\"white\",\"linecolor\":\"white\",\"ticks\":\"\"},\"baxis\":{\"gridcolor\":\"white\",\"linecolor\":\"white\",\"ticks\":\"\"},\"caxis\":{\"gridcolor\":\"white\",\"linecolor\":\"white\",\"ticks\":\"\"}},\"coloraxis\":{\"colorbar\":{\"outlinewidth\":0,\"ticks\":\"\"}},\"colorscale\":{\"sequential\":[[0.0,\"#0d0887\"],[0.1111111111111111,\"#46039f\"],[0.2222222222222222,\"#7201a8\"],[0.3333333333333333,\"#9c179e\"],[0.4444444444444444,\"#bd3786\"],[0.5555555555555556,\"#d8576b\"],[0.6666666666666666,\"#ed7953\"],[0.7777777777777778,\"#fb9f3a\"],[0.8888888888888888,\"#fdca26\"],[1.0,\"#f0f921\"]],\"sequentialminus\":[[0.0,\"#0d0887\"],[0.1111111111111111,\"#46039f\"],[0.2222222222222222,\"#7201a8\"],[0.3333333333333333,\"#9c179e\"],[0.4444444444444444,\"#bd3786\"],[0.5555555555555556,\"#d8576b\"],[0.6666666666666666,\"#ed7953\"],[0.7777777777777778,\"#fb9f3a\"],[0.8888888888888888,\"#fdca26\"],[1.0,\"#f0f921\"]],\"diverging\":[[0,\"#8e0152\"],[0.1,\"#c51b7d\"],[0.2,\"#de77ae\"],[0.3,\"#f1b6da\"],[0.4,\"#fde0ef\"],[0.5,\"#f7f7f7\"],[0.6,\"#e6f5d0\"],[0.7,\"#b8e186\"],[0.8,\"#7fbc41\"],[0.9,\"#4d9221\"],[1,\"#276419\"]]},\"xaxis\":{\"gridcolor\":\"white\",\"linecolor\":\"white\",\"ticks\":\"\",\"title\":{\"standoff\":15},\"zerolinecolor\":\"white\",\"automargin\":true,\"zerolinewidth\":2},\"yaxis\":{\"gridcolor\":\"white\",\"linecolor\":\"white\",\"ticks\":\"\",\"title\":{\"standoff\":15},\"zerolinecolor\":\"white\",\"automargin\":true,\"zerolinewidth\":2},\"scene\":{\"xaxis\":{\"backgroundcolor\":\"#E5ECF6\",\"gridcolor\":\"white\",\"linecolor\":\"white\",\"showbackground\":true,\"ticks\":\"\",\"zerolinecolor\":\"white\",\"gridwidth\":2},\"yaxis\":{\"backgroundcolor\":\"#E5ECF6\",\"gridcolor\":\"white\",\"linecolor\":\"white\",\"showbackground\":true,\"ticks\":\"\",\"zerolinecolor\":\"white\",\"gridwidth\":2},\"zaxis\":{\"backgroundcolor\":\"#E5ECF6\",\"gridcolor\":\"white\",\"linecolor\":\"white\",\"showbackground\":true,\"ticks\":\"\",\"zerolinecolor\":\"white\",\"gridwidth\":2}},\"shapedefaults\":{\"line\":{\"color\":\"#2a3f5f\"}},\"annotationdefaults\":{\"arrowcolor\":\"#2a3f5f\",\"arrowhead\":0,\"arrowwidth\":1},\"geo\":{\"bgcolor\":\"white\",\"landcolor\":\"#E5ECF6\",\"subunitcolor\":\"white\",\"showland\":true,\"showlakes\":true,\"lakecolor\":\"white\"},\"title\":{\"x\":0.05},\"mapbox\":{\"style\":\"light\"}}}},                        {\"responsive\": true}                    ).then(function(){\n",
       "                            \n",
       "var gd = document.getElementById('317896bb-eadb-4c8a-9556-fb1b7ebe497d');\n",
       "var x = new MutationObserver(function (mutations, observer) {{\n",
       "        var display = window.getComputedStyle(gd).display;\n",
       "        if (!display || display === 'none') {{\n",
       "            console.log([gd, 'removed!']);\n",
       "            Plotly.purge(gd);\n",
       "            observer.disconnect();\n",
       "        }}\n",
       "}});\n",
       "\n",
       "// Listen for the removal of the full notebook cells\n",
       "var notebookContainer = gd.closest('#notebook-container');\n",
       "if (notebookContainer) {{\n",
       "    x.observe(notebookContainer, {childList: true});\n",
       "}}\n",
       "\n",
       "// Listen for the clearing of the current output cell\n",
       "var outputEl = gd.closest('.output');\n",
       "if (outputEl) {{\n",
       "    x.observe(outputEl, {childList: true});\n",
       "}}\n",
       "\n",
       "                        })                };                });            </script>        </div>"
      ]
     },
     "metadata": {},
     "output_type": "display_data"
    }
   ],
   "source": [
    "fig = go.Figure(data=edge_traces + [node_trace],\n",
    "             layout=go.Layout(\n",
    "                title='Dialogue graph',\n",
    "                titlefont_size=16,\n",
    "                showlegend=False,\n",
    "                hovermode='closest',\n",
    "                margin=dict(b=20,l=5,r=5,t=40),\n",
    "                annotations=[ dict(\n",
    "                    text=\"Target Dialogue: <br>\" + dial,\n",
    "                    showarrow=False,\n",
    "                    xref=\"paper\", yref=\"paper\",\n",
    "                    x=0.005, y=-0.001 ) ],\n",
    "                xaxis=dict(showgrid=False, zeroline=False, showticklabels=False),\n",
    "                yaxis=dict(showgrid=False, zeroline=False, showticklabels=False))\n",
    "                )\n",
    "fig.update_traces(marker_showscale=False)\n",
    "fig.write_html(\"pictures/graph_viz_10.html\")\n",
    "fig.show()"
   ]
  },
  {
   "cell_type": "code",
   "execution_count": null,
   "metadata": {},
   "outputs": [],
   "source": []
  }
 ],
 "metadata": {
  "kernelspec": {
   "display_name": "Python 3",
   "language": "python",
   "name": "python3"
  },
  "language_info": {
   "codemirror_mode": {
    "name": "ipython",
    "version": 3
   },
   "file_extension": ".py",
   "mimetype": "text/x-python",
   "name": "python",
   "nbconvert_exporter": "python",
   "pygments_lexer": "ipython3",
   "version": "3.10.10"
  },
  "orig_nbformat": 4
 },
 "nbformat": 4,
 "nbformat_minor": 2
}
