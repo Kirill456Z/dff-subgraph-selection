{
 "cells": [
  {
   "cell_type": "code",
   "execution_count": 1,
   "metadata": {},
   "outputs": [
    {
     "name": "stdout",
     "output_type": "stream",
     "text": [
      "/home/kirill/Desktop/DGAC/dialogue_sim\n"
     ]
    }
   ],
   "source": [
    "%cd dialogue_sim"
   ]
  },
  {
   "cell_type": "code",
   "execution_count": 2,
   "metadata": {},
   "outputs": [],
   "source": [
    "from dialogue_sim.sim_metrics import MetricsEval\n",
    "import pandas as pd\n",
    "import numpy as np"
   ]
  },
  {
   "cell_type": "code",
   "execution_count": 5,
   "metadata": {},
   "outputs": [],
   "source": [
    "import pickle\n",
    "\n",
    "def max_acc(y_true, y_pred):\n",
    "    grid = np.linspace(y_pred.min(), y_pred.max(), 200).reshape(1, -1)\n",
    "    pred = (y_pred.reshape(-1, 1) > grid)*1\n",
    "    acc = np.equal(y_true.reshape(-1,1), pred).mean(axis = 0)\n",
    "    return max(acc.max(), 1 - acc.min())\n",
    "\n",
    "with open(\"data/mwtrain_sbert.pkl\", \"rb\") as file:\n",
    "    train_dials = pickle.load(file)\n",
    "\n",
    "with open(\"data/mwtest_sbert.pkl\", \"rb\") as file:\n",
    "    test_dials = pickle.load(file)\n",
    "\n",
    "with open(\"data/ensemble.pkl\", \"rb\") as file:\n",
    "    automl = pickle.load(file)\n"
   ]
  },
  {
   "cell_type": "code",
   "execution_count": 6,
   "metadata": {},
   "outputs": [],
   "source": [
    "def get_similarity(target_dial, dials, me = None, automl = automl):\n",
    "    if me is None:\n",
    "        me = MetricsEval()\n",
    "    scores = []\n",
    "    for dial in dials:\n",
    "        metrics = me.get_metrics(target_dial, dial)\n",
    "        scores.append(list(metrics.values()))\n",
    "    scores = np.array(scores)\n",
    "    df = pd.DataFrame(scores, columns = list(metrics.keys()))\n",
    "    similarity = automl.predict(df)\n",
    "    return similarity\n",
    "\n",
    "def get_similar_dials(target_dial, dials, thresh = 0.5):\n",
    "    similarity = get_similarity(target_dial, dials).data.ravel()\n",
    "    is_similar = similarity > thresh\n",
    "    sim_dials = [dials[i] for i, is_sim in enumerate(is_similar) if is_sim]\n",
    "    return sim_dials"
   ]
  },
  {
   "cell_type": "code",
   "execution_count": 7,
   "metadata": {},
   "outputs": [],
   "source": [
    "def get_coverage_ratio(dials, subset):\n",
    "    ss = set(subset)\n",
    "    ratio = []\n",
    "    length = []\n",
    "    for dial in dials:\n",
    "        is_in = np.array([cl in ss for cl in dial.second_stage_clusters])\n",
    "        ratio.append(is_in.mean())\n",
    "        length.append(len(is_in))\n",
    "    ratio = np.array(ratio)\n",
    "    length = np.array(length)\n",
    "    return (ratio * length).sum() / length.sum()"
   ]
  },
  {
   "cell_type": "code",
   "execution_count": 8,
   "metadata": {},
   "outputs": [],
   "source": [
    "def get_neighborhood(dial, prob_thresh = 0.1):\n",
    "    dial_clusters = dial.second_stage_clusters\n",
    "    transitions = dial.transitions\n",
    "    res = set()\n",
    "    for cluster in dial_clusters:\n",
    "        cur_tr = transitions[cluster]\n",
    "        near_cl = np.arange(0, len(cur_tr))[cur_tr > prob_thresh]\n",
    "        res = res.union(set(near_cl))\n",
    "        res = res.union(set([cluster]))\n",
    "    return res"
   ]
  },
  {
   "cell_type": "code",
   "execution_count": 9,
   "metadata": {},
   "outputs": [
    {
     "data": {
      "text/plain": [
       "0.548113038812377"
      ]
     },
     "execution_count": 9,
     "metadata": {},
     "output_type": "execute_result"
    }
   ],
   "source": [
    "targ_dial = test_dials[0]\n",
    "\n",
    "nh = get_neighborhood(targ_dial)\n",
    "sim_dials = get_similar_dials(targ_dial, test_dials)\n",
    "get_coverage_ratio(sim_dials, nh)"
   ]
  },
  {
   "cell_type": "code",
   "execution_count": 10,
   "metadata": {},
   "outputs": [],
   "source": [
    "sim_dials = get_similar_dials(targ_dial, test_dials)\n",
    "num_clusters = targ_dial.transitions.shape[0]\n",
    "\n",
    "size = []\n",
    "ratio = []\n",
    "thresh_range = np.arange(0.0, 1.01, 0.05)\n",
    "\n",
    "for thresh in thresh_range:\n",
    "    nh = get_neighborhood(targ_dial, thresh)\n",
    "    size.append(len(nh) / num_clusters)\n",
    "    cr = get_coverage_ratio(sim_dials, nh)\n",
    "    ratio.append(cr)\n",
    "\n",
    "size = np.array(size)\n",
    "ratio = np.array(ratio)"
   ]
  },
  {
   "cell_type": "code",
   "execution_count": 11,
   "metadata": {},
   "outputs": [
    {
     "data": {
      "text/plain": [
       "<Axes: >"
      ]
     },
     "execution_count": 11,
     "metadata": {},
     "output_type": "execute_result"
    },
    {
     "data": {
      "image/png": "[encoded data removed]",
      "text/plain": [
       "<Figure size 640x480 with 1 Axes>"
      ]
     },
     "metadata": {},
     "output_type": "display_data"
    }
   ],
   "source": [
    "import seaborn as sns\n",
    "import matplotlib.pyplot as plt\n",
    "\n",
    "sns.lineplot(x = thresh_range, y = size, label = \"subset size\")\n",
    "sns.lineplot(x = thresh_range, y = ratio, label = \"coverage ratio\")"
   ]
  },
  {
   "cell_type": "code",
   "execution_count": 12,
   "metadata": {},
   "outputs": [],
   "source": [
    "from collections import Counter\n",
    "c = Counter()\n",
    "\n",
    "for dial in sim_dials:\n",
    "    for cluster in dial.second_stage_clusters:\n",
    "        c[cluster] += 1"
   ]
  },
  {
   "cell_type": "code",
   "execution_count": 13,
   "metadata": {},
   "outputs": [],
   "source": [
    "s = sum(c.values())\n",
    "ratios = np.array(list(c.values())) / s"
   ]
  },
  {
   "cell_type": "code",
   "execution_count": 14,
   "metadata": {},
   "outputs": [
    {
     "data": {
      "text/plain": [
       "array([0.06072259, 0.05464139, 0.05097478, 0.03460919, 0.03192631,\n",
       "       0.03031658, 0.02790199, 0.0276337 , 0.02718655, 0.02664997])"
      ]
     },
     "execution_count": 14,
     "metadata": {},
     "output_type": "execute_result"
    }
   ],
   "source": [
    "ratios.sort()\n",
    "ratios = ratios[::-1]\n",
    "ratios[:10]"
   ]
  },
  {
   "cell_type": "code",
   "execution_count": 15,
   "metadata": {},
   "outputs": [
    {
     "data": {
      "text/plain": [
       "<Axes: ylabel='Count'>"
      ]
     },
     "execution_count": 15,
     "metadata": {},
     "output_type": "execute_result"
    },
    {
     "data": {
      "image/png": "[encoded data removed]",
      "text/plain": [
       "<Figure size 640x480 with 1 Axes>"
      ]
     },
     "metadata": {},
     "output_type": "display_data"
    }
   ],
   "source": [
    "sns.histplot(ratios, binwidth = 0.005)"
   ]
  },
  {
   "cell_type": "code",
   "execution_count": 16,
   "metadata": {},
   "outputs": [
    {
     "data": {
      "text/plain": [
       "Text(0, 0.5, 'acc')"
      ]
     },
     "execution_count": 16,
     "metadata": {},
     "output_type": "execute_result"
    },
    {
     "data": {
      "image/png": "[encoded data removed]",
      "text/plain": [
       "<Figure size 640x480 with 1 Axes>"
      ]
     },
     "metadata": {},
     "output_type": "display_data"
    }
   ],
   "source": [
    "sns.set_style('darkgrid')\n",
    "sns.lineplot(x = np.arange(1, len(ratios) + 1) / num_clusters, y = ratios.cumsum(), label = \"best solution\")\n",
    "sns.lineplot(x = size, y = ratio, label = 'simple solution')\n",
    "plt.xlabel(\"доля отобранных кластеров\")\n",
    "plt.ylabel('acc')"
   ]
  },
  {
   "cell_type": "code",
   "execution_count": 7,
   "metadata": {},
   "outputs": [],
   "source": [
    "servs = set()\n",
    "for d in train_dials:\n",
    "    servs = servs.union(d.services)\n",
    "serv_map = {s : i for i, s in enumerate(servs)}\n",
    "vec_serv = np.zeros((len(train_dials), len(servs)))\n",
    "for i, d in enumerate(train_dials):\n",
    "    for s in d.services:\n",
    "        id = serv_map[s]\n",
    "        vec_serv[i][id] = 1"
   ]
  },
  {
   "cell_type": "code",
   "execution_count": 57,
   "metadata": {},
   "outputs": [],
   "source": [
    "def serv_to_vec(services):\n",
    "    res = np.zeros(len(servs))\n",
    "    for serv in services:\n",
    "        id = serv_map[serv]\n",
    "        res[id] = 1\n",
    "    return res\n",
    "\n",
    "def get_similar(dial, vec_serv = vec_serv):\n",
    "    cur_v = serv_to_vec(dial.services)\n",
    "    sim = (vec_serv @ cur_v) > 0\n",
    "    return sim\n",
    "\n",
    "def get_best_subset_from_dials(dials, thresh = 0.75):\n",
    "    res = np.zeros(num_clusters)\n",
    "    for dial in dials:\n",
    "        for cl in dial.second_stage_clusters:\n",
    "            res[cl] += 1\n",
    "    ratios = np.sort(res)[::-1] / res.sum()\n",
    "    indexes = np.argsort(res)[::-1]\n",
    "    csum = ratios.cumsum()\n",
    "    best_subset = indexes[csum < thresh]\n",
    "    return best_subset\n",
    "\n",
    "def get_best_subset(dial, dials = train_dials, serv_matrix = vec_serv, thresh = 0.75):\n",
    "    similar = get_similar(dial, serv_matrix)\n",
    "    similar_ids = np.arange(0, len(dials))[similar]\n",
    "    sim_dials = [dials[idx] for idx in similar_ids]\n",
    "    bs = get_best_subset_from_dials(sim_dials, thresh)\n",
    "    return bs\n",
    "\n",
    "def get_ratios(dial, dials = train_dials, matrix = vec_serv):\n",
    "    similar = get_similar(dial, matrix)\n",
    "    similar_ids = np.arange(0, len(test_dials))[similar]\n",
    "    sim_dials = [test_dials[idx] for idx in similar_ids]\n",
    "    res = np.zeros(num_clusters)\n",
    "    for dial in sim_dials:\n",
    "        for cl in dial.second_stage_clusters:\n",
    "            res[cl] += 1\n",
    "    ratios = res / res.sum()\n",
    "    return ratios"
   ]
  },
  {
   "cell_type": "code",
   "execution_count": 9,
   "metadata": {},
   "outputs": [
    {
     "name": "stderr",
     "output_type": "stream",
     "text": [
      "/home/kirill/Desktop/DGAC/.venv/lib/python3.10/site-packages/tqdm/auto.py:21: TqdmWarning: IProgress not found. Please update jupyter and ipywidgets. See https://ipywidgets.readthedocs.io/en/stable/user_install.html\n",
      "  from .autonotebook import tqdm as notebook_tqdm\n"
     ]
    }
   ],
   "source": [
    "import torch\n",
    "from torch_geometric.data import Data\n",
    "\n",
    "edge_index = torch.tensor([[0, 1],\n",
    "                           [1, 0],\n",
    "                           [1, 2],\n",
    "                           [2, 1]], dtype=torch.long)\n",
    "x = torch.tensor([[-1], [0], [1]], dtype=torch.float)\n",
    "\n",
    "data = Data(x=x, edge_index=edge_index.t().contiguous())"
   ]
  },
  {
   "cell_type": "code",
   "execution_count": 27,
   "metadata": {},
   "outputs": [],
   "source": [
    "num_clusters = train_dials[0].transitions.shape[0]\n",
    "\n",
    "index = []\n",
    "weights = []\n",
    "for i in range(num_clusters):\n",
    "    for j in range(num_clusters):\n",
    "        if train_dials[0].transitions[i][j] > 0:\n",
    "            index.append([i,j])\n",
    "            weights.append(train_dials[0].transitions[i][j])\n",
    "weights = torch.Tensor(weights)\n",
    "edge_index = torch.Tensor(index).T.contiguous().long()\n",
    "\n",
    "def get_data(dial, dials = train_dials, serv_matrix = vec_serv):\n",
    "    x = torch.zeros((num_clusters, 1))\n",
    "    for cl in dial.second_stage_clusters:\n",
    "        x[cl][0] = 1\n",
    "    edge_weight = torch.Tensor(dial.transitions)\n",
    "    y = torch.zeros((num_clusters, 1))\n",
    "    for cl in get_best_subset(dial, dials, serv_matrix):\n",
    "        y[cl][0] = 1\n",
    "    return Data(x = x, edge_index = edge_index, edge_weight = weights, y = y)"
   ]
  },
  {
   "cell_type": "code",
   "execution_count": 12,
   "metadata": {},
   "outputs": [],
   "source": [
    "d = get_data(train_dials[0])"
   ]
  },
  {
   "cell_type": "code",
   "execution_count": 13,
   "metadata": {},
   "outputs": [],
   "source": [
    "from torch_geometric.nn import SimpleConv\n",
    "\n",
    "sc = SimpleConv()\n",
    "outp = sc(d.x, d.edge_index, d.edge_weight)"
   ]
  },
  {
   "cell_type": "code",
   "execution_count": 14,
   "metadata": {},
   "outputs": [],
   "source": [
    "def train_loop(model, data, optimizer, loss, epochs = 1):\n",
    "    for epoch in range(epochs):\n",
    "        for i, dial in enumerate(data):\n",
    "            dial_d = get_data(dial).to(device)\n",
    "            preds = model(x = dial_d.x, edge_index = dial_d.edge_index, edge_weight = dial_d.edge_weight)\n",
    "            probs = torch.sigmoid(preds)\n",
    "\n",
    "            optimizer.zero_grad()\n",
    "            l = loss(probs, dial_d.y)\n",
    "            l.backward()\n",
    "            optimizer.step()\n",
    "\n",
    "            if i % 100 == 0:\n",
    "                print(l.item())"
   ]
  },
  {
   "cell_type": "code",
   "execution_count": 15,
   "metadata": {},
   "outputs": [
    {
     "name": "stdout",
     "output_type": "stream",
     "text": [
      "0.6881455779075623\n"
     ]
    },
    {
     "name": "stderr",
     "output_type": "stream",
     "text": [
      "/tmp/ipykernel_51935/2194893451.py:18: RuntimeWarning: invalid value encountered in divide\n",
      "  ratios = np.sort(res)[::-1] / res.sum()\n"
     ]
    },
    {
     "name": "stdout",
     "output_type": "stream",
     "text": [
      "0.6707231402397156\n",
      "0.6318368315696716\n",
      "0.5896130800247192\n",
      "0.625616192817688\n",
      "0.7060144543647766\n",
      "0.6423618197441101\n",
      "0.7323391437530518\n",
      "0.5568553805351257\n",
      "0.6693062782287598\n",
      "0.5712143778800964\n",
      "0.5560444593429565\n",
      "0.4861830770969391\n",
      "0.5142003893852234\n",
      "0.6526404023170471\n",
      "0.599812924861908\n",
      "0.5677433013916016\n",
      "0.5956814885139465\n",
      "0.6111199855804443\n",
      "0.6040768027305603\n",
      "0.5331757664680481\n",
      "0.5631758570671082\n",
      "0.5617386698722839\n",
      "0.6541539430618286\n",
      "0.5391188859939575\n",
      "0.5955841541290283\n",
      "0.5336203575134277\n",
      "0.5130066275596619\n",
      "0.5653608441352844\n",
      "0.6012167930603027\n",
      "0.4814664125442505\n",
      "0.4754277169704437\n",
      "0.4776534140110016\n",
      "0.5820130705833435\n",
      "0.5078693628311157\n",
      "0.474427193403244\n",
      "0.5568178296089172\n",
      "0.46359261870384216\n",
      "0.5376558303833008\n",
      "0.5268160700798035\n",
      "0.5624375939369202\n",
      "0.6593244075775146\n",
      "0.5702748894691467\n",
      "0.4680197536945343\n",
      "0.4731418192386627\n",
      "0.48332470655441284\n",
      "0.5248847007751465\n",
      "0.5929225087165833\n",
      "0.536056399345398\n",
      "0.49944859743118286\n",
      "0.4963397979736328\n",
      "0.48692163825035095\n",
      "0.5375105738639832\n",
      "0.5354644060134888\n",
      "0.447205126285553\n",
      "0.43832364678382874\n",
      "0.5559626817703247\n",
      "0.4378760755062103\n",
      "0.4351048767566681\n",
      "0.4616992175579071\n",
      "0.35359853506088257\n",
      "0.5618610382080078\n",
      "0.5018676519393921\n",
      "0.4391757845878601\n",
      "0.42800888419151306\n",
      "0.568586528301239\n",
      "0.6007789969444275\n",
      "0.4551309645175934\n",
      "0.6119388937950134\n",
      "0.5559225082397461\n",
      "0.46375226974487305\n",
      "0.5501735210418701\n",
      "0.5706193447113037\n",
      "0.5815110206604004\n",
      "0.5414632558822632\n",
      "0.5126222968101501\n",
      "0.3945118486881256\n",
      "0.49212130904197693\n",
      "0.45114395022392273\n",
      "0.4883822500705719\n",
      "0.5268141627311707\n",
      "0.44127726554870605\n",
      "0.40434131026268005\n",
      "0.45342689752578735\n",
      "0.49371448159217834\n"
     ]
    }
   ],
   "source": [
    "from torch import nn\n",
    "from torch_geometric import nn as gnn\n",
    "\n",
    "device = 'cuda' if torch.cuda.is_available() else 'cpu'\n",
    "\n",
    "model = gnn.GCN(in_channels = 1, hidden_channels = 8, num_layers = 3, out_channels = 1).to(device)\n",
    "optimizer = torch.optim.Adam(model.parameters())\n",
    "loss = nn.BCELoss()\n",
    "\n",
    "train_loop(model, train_dials, optimizer, loss, 1)"
   ]
  },
  {
   "cell_type": "code",
   "execution_count": 58,
   "metadata": {},
   "outputs": [],
   "source": [
    "test_serv_matrx = np.array([serv_to_vec(dial.services) for dial in test_dials])"
   ]
  },
  {
   "cell_type": "code",
   "execution_count": 59,
   "metadata": {},
   "outputs": [],
   "source": [
    "dial = test_dials[0]\n",
    "model.eval()\n",
    "data = get_data(dial, test_dials, test_serv_matrx).to(device)\n",
    "preds = model(x =data.x, edge_index = data.edge_index,edge_weight= data.edge_weight)\n",
    "proba = torch.sigmoid(preds)"
   ]
  },
  {
   "cell_type": "code",
   "execution_count": 85,
   "metadata": {},
   "outputs": [],
   "source": [
    "def get_metrics_neighborhood(dial, ratios):\n",
    "    size = []\n",
    "    metric = []\n",
    "    for thresh in np.arange(0.01, 0.4, 0.01):\n",
    "        nh = np.array(list(get_neighborhood(dial, thresh)), dtype = 'int32')\n",
    "        metric.append(ratios[nh].sum())\n",
    "        size.append(len(nh) / num_clusters)\n",
    "    return size, metric"
   ]
  },
  {
   "cell_type": "code",
   "execution_count": 88,
   "metadata": {},
   "outputs": [],
   "source": [
    "ratios = get_ratios(dial, test_dials, test_serv_matrx)\n",
    "nh_size, nh_metric = get_metrics_neighborhood(dial, ratios)"
   ]
  },
  {
   "cell_type": "code",
   "execution_count": 89,
   "metadata": {},
   "outputs": [],
   "source": [
    "model_sorted = np.argsort(proba.cpu().detach().numpy().ravel())[::-1]\n",
    "\n",
    "metric = []\n",
    "subset_size = []\n",
    "for i in range(1, len(model_sorted) + 1):\n",
    "    selected_nodes = model_sorted[:i]\n",
    "    metric.append(ratios[selected_nodes].sum())\n",
    "    subset_size.append(i / len(model_sorted))"
   ]
  },
  {
   "cell_type": "code",
   "execution_count": 97,
   "metadata": {},
   "outputs": [
    {
     "data": {
      "text/plain": [
       "array([0.00000000e+00, 0.00000000e+00, 0.00000000e+00, 8.80436697e-05,\n",
       "       3.52174679e-04, 1.05652404e-03, 2.11304807e-03, 3.69783413e-03,\n",
       "       5.54675119e-03, 8.89241064e-03, 1.23261138e-02, 1.69924282e-02,\n",
       "       2.32435288e-02, 2.94946293e-02, 3.58337736e-02, 4.36696602e-02,\n",
       "       5.32664201e-02, 6.30392675e-02, 7.30762458e-02, 8.31132242e-02,\n",
       "       9.34143335e-02, 1.05036098e-01, 1.17274168e-01, 1.30216587e-01,\n",
       "       1.43423138e-01, 1.56805776e-01, 1.70276457e-01, 1.84803663e-01,\n",
       "       1.99418912e-01, 2.14122205e-01, 2.29177672e-01, 2.44497271e-01,\n",
       "       2.59904913e-01, 2.75400599e-01, 2.91160416e-01, 3.08064800e-01,\n",
       "       3.25937665e-01, 3.43898574e-01, 3.61859482e-01, 3.80260609e-01,\n",
       "       3.98749780e-01, 4.18295475e-01, 4.37929213e-01, 4.57650995e-01,\n",
       "       4.79926043e-01, 5.03081528e-01, 5.26677232e-01, 5.51593590e-01,\n",
       "       5.76597993e-01, 6.01778482e-01, 6.28191583e-01, 6.54604684e-01,\n",
       "       6.81898222e-01, 7.09543934e-01, 7.37277690e-01, 7.67212537e-01,\n",
       "       7.99260433e-01, 8.34653988e-01, 8.85455186e-01, 9.40218348e-01,\n",
       "       1.00000000e+00])"
      ]
     },
     "execution_count": 97,
     "metadata": {},
     "output_type": "execute_result"
    }
   ],
   "source": [
    "np.sort(ratios).cumsum()"
   ]
  },
  {
   "cell_type": "code",
   "execution_count": 99,
   "metadata": {},
   "outputs": [
    {
     "data": {
      "text/plain": [
       "<Axes: >"
      ]
     },
     "execution_count": 99,
     "metadata": {},
     "output_type": "execute_result"
    },
    {
     "data": {
      "image/png": "[encoded data removed]",
      "text/plain": [
       "<Figure size 640x480 with 1 Axes>"
      ]
     },
     "metadata": {},
     "output_type": "display_data"
    }
   ],
   "source": [
    "import seaborn as sns\n",
    "\n",
    "sns.set_style('darkgrid')\n",
    "sns.lineplot(x = subset_size, y = metric, label = '3-layer GCN')\n",
    "sns.lineplot(x =  nh_size, y = nh_metric, label = 'neighborhood')\n",
    "sns.lineplot(x = np.arange(1, num_clusters + 1) / num_clusters, y = np.sort(ratios)[::-1].cumsum(), label = 'perfect')"
   ]
  }
 ],
 "metadata": {
  "kernelspec": {
   "display_name": "Python 3",
   "language": "python",
   "name": "python3"
  },
  "language_info": {
   "codemirror_mode": {
    "name": "ipython",
    "version": 3
   },
   "file_extension": ".py",
   "mimetype": "text/x-python",
   "name": "python",
   "nbconvert_exporter": "python",
   "pygments_lexer": "ipython3",
   "version": "3.9.16"
  },
  "orig_nbformat": 4
 },
 "nbformat": 4,
 "nbformat_minor": 2
}
